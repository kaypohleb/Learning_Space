{
 "cells": [
  {
   "cell_type": "markdown",
   "metadata": {},
   "source": [
    "1.\n",
    "After the following code is executed, at line 6, what is seen on the screen is  1.23 aces.   \n",
    " \n",
    "By explaining what each line of the code below (for lines 1 to 5) does, show how the code below switches the objects assigned to variables x and y.  \n",
    "Your explanation must state when objects are created and their data types, and also how names are assigned to these objects. Diagrams could be helpful in your explanation."
   ]
  },
  {
   "cell_type": "code",
   "execution_count": null,
   "metadata": {},
   "outputs": [],
   "source": [
    "x = 'aces' \n",
    "y = 1.23 \n",
    "z = x \n",
    "x = y \n",
    "y = z \n",
    "print(x, y) \n",
    "#1.23,aces"
   ]
  },
  {
   "cell_type": "markdown",
   "metadata": {},
   "source": [
    "2.When the following code is executed, after line 12, what is seen on the screen is True.  \n",
    "\n",
    "i) Using how names are assigned to objects in memory, explain why. Diagrams could be helpful in your explanation.          \n",
    "\n",
    "ii) The intention of the programmer is to create two lists showing the words for ‘seven’, ‘eight’ and ‘nine’ for both Greek and French. State one modification to the code at line 8 so that line 13 prints out the correct output.       "
   ]
  },
  {
   "cell_type": "code",
   "execution_count": null,
   "metadata": {},
   "outputs": [],
   "source": [
    "from copy import *\n",
    "french = [ 'sept', 'huit', 'neuf' ] \n",
    "#the words mean 'seven','eight','nine'. \n",
    "greek = deepcopy(french) \n",
    "greek[0] = 'epta' # 'seven' \n",
    "greek[1] = 'okto' # 'eight' \n",
    "greek[2] = 'enea' # 'nine' \n",
    "print(greek is french) \n",
    "print(french, greek) \n",
    " "
   ]
  },
  {
   "cell_type": "markdown",
   "metadata": {},
   "source": [
    "3.Is there anything wrong with the following program? If yes, what is wrong?"
   ]
  },
  {
   "cell_type": "code",
   "execution_count": null,
   "metadata": {},
   "outputs": [],
   "source": [
    "importa = int(input(\"Enter a number: \")) \n",
    "if importa==2:     \n",
    "    print(\"Yes\") \n",
    "else:     \n",
    "    print(\"No\") \n",
    "#import cannot be used as variable name"
   ]
  },
  {
   "cell_type": "markdown",
   "metadata": {},
   "source": [
    "4.If break is removed from the following program and the program is run, what will be printed out?"
   ]
  },
  {
   "cell_type": "code",
   "execution_count": null,
   "metadata": {},
   "outputs": [],
   "source": [
    "my_string = \"Computing\" \n",
    "for character in my_string:  \n",
    "    print(character)  \n",
    "    if character == \"u\":   \n",
    "        print(\"Found 'u' :)\")   \n",
    "        break\n",
    "#it will print"
   ]
  },
  {
   "cell_type": "markdown",
   "metadata": {},
   "source": [
    "C\n",
    "\n",
    "o\n",
    "\n",
    "m\n",
    "\n",
    "p\n",
    "\n",
    "u\n",
    "\n",
    "Found 'u' :)\n",
    "\n",
    "t\n",
    "\n",
    "i\n",
    "\n",
    "n\n",
    "\n",
    "g\n"
   ]
  },
  {
   "cell_type": "markdown",
   "metadata": {},
   "source": [
    "5.\n",
    "\n",
    "a)What will be the output?\n",
    "\n",
    "b)Identify the lines of the program which will be executed when the input is 37. "
   ]
  },
  {
   "cell_type": "code",
   "execution_count": null,
   "metadata": {},
   "outputs": [],
   "source": [
    "def my_function(n):     \n",
    "    return_value = None     \n",
    "    if n == 0 or n == 1:         \n",
    "        return_value = False     \n",
    "    i=2     \n",
    "    while i < n**0.5:         \n",
    "        if n%i==0:             \n",
    "            return_value = False             \n",
    "            break         \n",
    "        i+=1         \n",
    "        return_value = True     \n",
    "    return return_value\n",
    "print(my_function(37))\n",
    "#output==True\n",
    "#lines 1-3,5-7,10,11,12"
   ]
  },
  {
   "cell_type": "markdown",
   "metadata": {},
   "source": [
    "6.\n",
    "Why is it not necessary to have a return statement in this function?\n",
    "\n",
    "If we change  robot.wheels(speed, speed) to robot.wheels(speed1, speed2) and the function header is also modified to take in speed1 and speed2, how will the movement of the robot change? \n",
    "You can assume that speed1 and speed2 are different and both speed1 and speed2 are positive numbers."
   ]
  },
  {
   "cell_type": "code",
   "execution_count": null,
   "metadata": {},
   "outputs": [],
   "source": [
    "def forward(speed, duration):     \n",
    "    robot.wheels(speed, speed)     \n",
    "    robot.sleep(duration)     \n",
    "    robot.wheels(0,0)\n",
    "#not necessary as robot function will already return values to the thymio to execute movement/wait\n",
    "#a difference in speed1 and speed 2 will induce more speed in one wheel than the other, causing it to turn towards the slower direction"
   ]
  },
  {
   "cell_type": "markdown",
   "metadata": {},
   "source": [
    "7.A frustum is a parallel truncation of a right pyramid. A piece of metal (shown in the Figure below) is in the shape of a frustum with a square base. The side length of the top square is s1 and the side length of the bottom square is s2. The height of the frustum is H. \n",
    " "
   ]
  },
  {
   "attachments": {
    "image.png": {
     "image/png": "[encoded data removed]"
    }
   },
   "cell_type": "markdown",
   "metadata": {},
   "source": [
    "![image.png](attachment:image.png)"
   ]
  },
  {
   "cell_type": "markdown",
   "metadata": {},
   "source": [
    "a)\n",
    "Write a python function __area_square(s)__ that takes the side of a square as an input argument s, and returns the area of the square. "
   ]
  },
  {
   "cell_type": "code",
   "execution_count": null,
   "metadata": {},
   "outputs": [],
   "source": [
    "import math as m"
   ]
  },
  {
   "cell_type": "code",
   "execution_count": null,
   "metadata": {},
   "outputs": [],
   "source": [
    "def area_square(s):\n",
    "    return s**2"
   ]
  },
  {
   "cell_type": "markdown",
   "metadata": {},
   "source": [
    "b)\n",
    "Write a python function __vol_frustum(top_area, bottom_area, height)__ that takes three arguments, a top area, a bottom area and a height in that order, and returns the volume of the frustum.\n",
    "\n",
    "Use math.sqrt in your function"
   ]
  },
  {
   "cell_type": "code",
   "execution_count": null,
   "metadata": {},
   "outputs": [],
   "source": [
    "def vol_frustum(top_area, bottom_area, height):\n",
    "    return (height/3)*(top_area+bottom_area+m.sqrt(top_area*bottom_area))"
   ]
  },
  {
   "cell_type": "markdown",
   "metadata": {},
   "source": [
    "c)\n",
    "Write a python function __get_volume(s1, s2, height)__ that takes three arguments, a top side length, a bottom side length and a height and returns the volume of a frustum based on those dimensions. This function should first call __area_square__ to obtain the two needed areas, and then call __vol_frustum__ to evaluate the volume.  "
   ]
  },
  {
   "cell_type": "code",
   "execution_count": null,
   "metadata": {},
   "outputs": [],
   "source": [
    "def get_volume(s1,s2,height):\n",
    "    return round(vol_frustum(area_square(s1),area_square(s2),height),3)\n",
    "\n",
    "assert(area_square(2))==4.000\n",
    "assert(area_square(3))==9.000\n",
    "assert(round(vol_frustum(1,4,2),3))==4.667\n",
    "assert(round(vol_frustum(2,2,2),3))==4.000\n",
    "assert(get_volume(1,2,2))==4.667\n",
    "assert(get_volume(1.5,3.3,5.0))==30.150\n",
    "assert(get_volume(3.6,6.4,4.0))==102.613"
   ]
  },
  {
   "cell_type": "markdown",
   "metadata": {},
   "source": [
    "8.\n",
    "Task: Implement a function __determinant(matrix)__ that takes a matrix as input (represented as a nested list) and returns its determinant as output. The function should satisfy the following requirements: \n",
    "\n",
    "• If the input matrix is not of dimension n x n (for 1 ≤ n ≤ 3), the function should return None; \n",
    " \n",
    "• The function is to be implemented without importing any libraries  (e.g. numpy), otherwise no marks will be awarded.\n",
    " "
   ]
  },
  {
   "cell_type": "code",
   "execution_count": null,
   "metadata": {},
   "outputs": [],
   "source": [
    "def determinant(matrix):\n",
    "    rows=len(matrix)\n",
    "    columns=len(matrix[0])\n",
    "    if rows!=columns:\n",
    "        return None\n",
    "    if rows==1:\n",
    "        return matrix[0][0]\n",
    "    elif rows==2:\n",
    "        return matrix[0][0]*matrix[1][1]-matrix[0][1]*matrix[1][0]\n",
    "    elif rows>2:\n",
    "        i=1\n",
    "        row=0\n",
    "        sum1=0\n",
    "        while row<rows:\n",
    "            d={}\n",
    "            row1=1\n",
    "            while row1<rows:\n",
    "                clm1=0\n",
    "                d[row1]=[]\n",
    "                while clm1<columns:\n",
    "                    if clm1 != row:\n",
    "                        d[row1].append(matrix[row1][clm1])\n",
    "                    clm1+=1\n",
    "                row1+=1\n",
    "            l1=[d[num] for num in d]\n",
    "            sum1+=i*(matrix[0][row])*(determinant(l1))\n",
    "            i*=-1\n",
    "            row+=1\n",
    "        return sum1\n",
    "    else:\n",
    "        return None\n",
    "        \n",
    "assert(determinant([[100]]))==100\n",
    "assert(determinant([[-5, -4], [-2, -3]]))==7\n",
    "assert(determinant([[2, -3, 1],[2, 0, -1],[1, 4, 5]]))==49\n",
    "assert(determinant([[0, 3, 5],[5, 5, 2],[3, 4, 3]]))==-2\n",
    "assert(determinant([[23], [-4, 4]]))==None"
   ]
  },
  {
   "cell_type": "markdown",
   "metadata": {},
   "source": [
    "The Newton-Raphson (NR) method is an iterative method that approximates the root of a function.  The accuracy of the answer is enhanced in successive iterations"
   ]
  },
  {
   "attachments": {
    "image.png": {
     "image/png": "[encoded data removed]"
    }
   },
   "cell_type": "markdown",
   "metadata": {},
   "source": [
    "![image.png](attachment:image.png)"
   ]
  },
  {
   "cell_type": "markdown",
   "metadata": {},
   "source": [
    "You need two create two functions: __nroot__ and __nroot_complex__. \n",
    "\n",
    "The function nroot(n, i, num) is to determine the root of non-negative num. \n",
    "\n",
    "The function nroot_complex(n, i, num)to determine the root of negative num. \n",
    "\n",
    "The function nroot_complex should call nroot to do the NR approximation. \n",
    "\n",
    "Note the output should give a constant*1j where j is the imaginary  √−1 . For odd n the output should give a negative value instead of constant*1j. This means that: \n",
    "\n",
    "• When num is a non-negative number, nroot_complex should give the same result as nroot. \n",
    "\n",
    "• When num is a negative number and n is even, nroot_complex should give a complex number with no real part, and its magnitude is the same as the output of nroot when num is positive. \n",
    "\n",
    "• When num is a negative number and n is odd, nroot_complex should give a negative real number, and its magnitude is the same as the output of nroot when num is positive\n",
    "\n",
    "__Round the output of nroot to 3 decimal places. Use x = 1 as your initial value.__"
   ]
  },
  {
   "cell_type": "code",
   "execution_count": null,
   "metadata": {},
   "outputs": [],
   "source": [
    "def nroot(n,i,num):\n",
    "    x=1\n",
    "    for i in range(1,i):\n",
    "        x-=((x**n)-num)/(n*x**(n-1))\n",
    "        print(x)\n",
    "    return round(x,3)\n",
    "\n",
    "assert(nroot(2,5,2))==1.414"
   ]
  },
  {
   "cell_type": "code",
   "execution_count": null,
   "metadata": {},
   "outputs": [],
   "source": [
    "def nroot_complex(n,i,num):\n",
    "    if num>0:\n",
    "        return nroot(n,i,num)\n",
    "    elif num<0:  \n",
    "        if n%2==0:\n",
    "            return nroot(n,i,-num)*1j\n",
    "        else:\n",
    "            return nroot(n,i,-num)*-1\n",
    "\n",
    "assert(nroot_complex(2,5,-4))==2j\n",
    "assert(nroot_complex(3,5,-8))==-2.003"
   ]
  },
  {
   "cell_type": "code",
   "execution_count": null,
   "metadata": {},
   "outputs": [],
   "source": []
  }
 ],
 "metadata": {
  "kernelspec": {
   "display_name": "Python 3",
   "language": "python",
   "name": "python3"
  },
  "language_info": {
   "codemirror_mode": {
    "name": "ipython",
    "version": 3
   },
   "file_extension": ".py",
   "mimetype": "text/x-python",
   "name": "python",
   "nbconvert_exporter": "python",
   "pygments_lexer": "ipython3",
   "version": "3.7.1"
  }
 },
 "nbformat": 4,
 "nbformat_minor": 2
}
