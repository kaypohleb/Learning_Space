{
 "cells": [
  {
   "cell_type": "markdown",
   "metadata": {},
   "source": [
    "# SUTD Digital World Midterms (2017) PART B (Answers)"
   ]
  },
  {
   "cell_type": "code",
   "execution_count": 1,
   "metadata": {},
   "outputs": [],
   "source": [
    "import math"
   ]
  },
  {
   "cell_type": "markdown",
   "metadata": {},
   "source": [
    "Part B Q3"
   ]
  },
  {
   "cell_type": "markdown",
   "metadata": {},
   "source": [
    "A regular polygon is an n-sided polygon in which all sides are of the same length and all angles have the\n",
    "same degree. The formula for computing the area of a regular polygon is\n",
    "\n",
    "__Area =(n×s^2)/(4xtan(pi/n))__\n",
    "\n",
    "Here, s is the length of a side. Write a function named area_r_polygon that takes the number of\n",
    "sides and the length of a side as arguments, then returns the area of the regular polygon up to 3 decimal\n",
    "places. Note: Use math.pi to obtain an accurate value for pi."
   ]
  },
  {
   "cell_type": "code",
   "execution_count": 3,
   "metadata": {},
   "outputs": [],
   "source": [
    "def area_r_polygon(n,s):\n",
    "    return round(n*s**2/(4*math.tan(math.pi/n)),3)"
   ]
  },
  {
   "cell_type": "code",
   "execution_count": 5,
   "metadata": {},
   "outputs": [],
   "source": [
    "assert(area_r_polygon(5, 6.5))==72.69\n",
    "assert(area_r_polygon(7, 3.25))==38.383\n",
    "assert(area_r_polygon(2, 12.5))==0.0"
   ]
  },
  {
   "cell_type": "markdown",
   "metadata": {},
   "source": [
    "Part B Q4"
   ]
  },
  {
   "cell_type": "markdown",
   "metadata": {},
   "source": [
    "The number 3, 5, 6, and 9 are all integers below 10 that are multiples of either 3 or 5; the sum of 3, 5, 6,\n",
    "9 is 23. Similarly, 2, 4, 6, 8, 10 are all integers below 12 that are multiples of either 2 or 4; the sum of 2, 4,\n",
    "6, 8, 10 is 30.\n",
    "Write a function mysum(a,b,limit) that accepts three arguments: a, b and limit. The arguments a\n",
    "and b are integers greater than zero and lesser than limit. The function mysum(a,b,limit) should\n",
    "return the sum of all the multiples of a or b, the multiples being lesser than limit. If the user enters a or b\n",
    "to be less than zero or non-integers, the function should return the error message “Wrong input” as a\n",
    "string."
   ]
  },
  {
   "cell_type": "code",
   "execution_count": 14,
   "metadata": {},
   "outputs": [],
   "source": [
    "import copy\n",
    "\n",
    "def mysum(a,b,limit):\n",
    "    #Input your code below\n",
    "    fixed_a = copy.deepcopy(a)\n",
    "    fixed_b = copy.deepcopy(b)\n",
    "    if a < 0 or b < 0 or type(a) != type(1) or type(b) != type(1):\n",
    "        return \"Wrong input\"\n",
    "    else:\n",
    "        count = 0\n",
    "        while a < limit:\n",
    "            count += a\n",
    "            a+= fixed_a\n",
    "        \n",
    "        while b < limit:\n",
    "            count += b\n",
    "            b += fixed_b\n",
    "    return count"
   ]
  },
  {
   "cell_type": "code",
   "execution_count": null,
   "metadata": {},
   "outputs": [],
   "source": [
    "assert(mysum(3, 5, 10))==23\n",
    "assert(mysum(2,4,12))==42\n",
    "assert(mysum(3,3,15))==60\n",
    "assert(mysum(7,9,100))==1329\n",
    "assert(mysum(21,34,10000))==3858456\n",
    "assert(mysum(0, 5, 10))=='Wrong input'\n",
    "assert(mysum(0.5, 5, 10))=='Wrong input'\n",
    "assert(mysum(3, 'x', 10))=='Wrong input'\n",
    "assert(mysum(3, -5, 10)) == 'Wrong input'\n",
    "assert(mysum(2, 3, 0))==0"
   ]
  },
  {
   "cell_type": "markdown",
   "metadata": {},
   "source": [
    "Part B Q5"
   ]
  },
  {
   "cell_type": "markdown",
   "metadata": {},
   "source": [
    "Write a function called get_students(students, course) which takes in a list and a string.\n",
    "The input list is made up of a sequence of binary tuples, each with a student name and a list of courses\n",
    "that the student has enrolled in. The second argument is a string containing the name of a course. Your\n",
    "function should return a list of the names of students who are enrolled in that course. If no students are\n",
    "taking the course the function should return an empty list. For example, see the test code and expected\n",
    "output below:"
   ]
  },
  {
   "cell_type": "code",
   "execution_count": 34,
   "metadata": {},
   "outputs": [],
   "source": [
    "def get_students(students, course):\n",
    "    c=[]\n",
    "    for i in students:\n",
    "        #to check if element is present in list\n",
    "        if course in i[1]:\n",
    "            c.append(i[0])\n",
    "    return c\n",
    "    "
   ]
  },
  {
   "cell_type": "code",
   "execution_count": 35,
   "metadata": {},
   "outputs": [],
   "source": [
    "students = [(\"Alan\", [\"CompSci\", \"Physics\", \"Math\"]),(\"Justin\", [\"Math\", \"CompSci\", \"Stats\"]),(\"Edward\", [\"CompSci\", \"Philosophy\", \"Economics\"]),(\"Margaret\", [\"InfSys\", \"Accounting\", \"Economics\",\n",
    "\"CommLaw\"]),(\"Philip\", [\"Sociology\", \"Economics\", \"Law\", \"Stats\",\"Music\"]),(\"Mary\", [\"Math\", \"CompSci\", \"Stats\"]),(\"Vera\", [\"CompSci\", \"Philosophy\", \"Economics\"]),(\"Mike\", [\"InfSys\", \"Accounting\", \"Economics\", \"CommLaw\"]),(\"Donna\", [\"Sociology\", \"Economics\", \"Law\", \"Stats\"])]\n",
    "assert(get_students(students, 'Philosophy'))==['Edward', 'Vera']\n",
    "assert(get_students(students, 'History'))==[]\n",
    "assert(get_students(students, 'Math'))==['Alan', 'Justin', 'Mary']\n",
    "assert(get_students(students, 'CompSci'))==['Alan', 'Justin', 'Edward', 'Mary', 'Vera']"
   ]
  },
  {
   "cell_type": "markdown",
   "metadata": {},
   "source": [
    "Part B Q6"
   ]
  },
  {
   "cell_type": "markdown",
   "metadata": {},
   "source": [
    "SUTDBook is a social network website founded by one of SUTD graduates. They are currently hiring\n",
    "some software engineers to develop an algorithm to suggest new ‘friends’ to their user. Your task in this\n",
    "question is to build this new friends suggestion algorithm.\n",
    "Network of users can be represented as a graph of connected nodes where each user is a node. The\n",
    "connection between two nodes states a friend relationship between the two users."
   ]
  },
  {
   "cell_type": "markdown",
   "metadata": {},
   "source": [
    "(a) Write a function called __get_nodes(fid)__ which takes in a file object as its input arguments and\n",
    "outputs a list of tuples. Each tuple shows a friend connection between two users and each user is\n",
    "represented by an integer. \n",
    "\n",
    "A sample of the text file can be seen below:\n",
    "#extract of __sutdbook1.txt__\n",
    "0 1\n",
    "0 2\n",
    "0 3\n",
    "1 48\n",
    "1 53\n",
    "\n",
    "The first three lines of the above text file means that user 0 is a friend of user 1, 2, and 3. The last two\n",
    "lines means that user 1 is a friend of user 48 and 53. "
   ]
  },
  {
   "cell_type": "code",
   "execution_count": null,
   "metadata": {},
   "outputs": [],
   "source": [
    "def  get_nodes(fid):    \n",
    "    node_list = fid.readlines()\n",
    "    node_tuplist = []\n",
    "    for elements in node_list:\n",
    "        tuplist = elements.split()\n",
    "        tup = (int(tuplist[0]),int(tuplist[1]))\n",
    "        node_tuplist.append(tup)\n",
    "    return node_tuplist\n",
    "\n",
    "#To TEST in your favourite IDE\n",
    "#f_1 = open('D:\\Download\\midterm2017\\midterm2017\\sutdbook1.txt','r') [rename the filepath to whatever filepath you store your text file in]\n",
    "#print(get_nodes(f_1))\n",
    "\n",
    "            "
   ]
  },
  {
   "cell_type": "markdown",
   "metadata": {},
   "source": [
    "Desired output:\n",
    "[(0, 1), (0, 2), (0, 3), (1, 48), (1, 53)]"
   ]
  },
  {
   "cell_type": "markdown",
   "metadata": {},
   "source": [
    "Note: If you find this part too difficult, you can do part (c) first. Each part can be done independently.\n",
    "\n",
    "Write a function __create_graph(nodes)__ which takes in a list of tuples and returns a graph of friend\n",
    "connection as a dictionary. The list of tuples is obtained from the output of get_nodes(fid) in part\n",
    "(a) and represents a friend connection between two users. \n",
    "\n",
    "The output of the function is a dictionary\n",
    "with each user as a key. The value is also a dictionary that contains key-value pair of each of the user’s\n",
    "friends. \n",
    "\n",
    "For example, if the input is\n",
    "[(0,1),(0,2),(0,3),(1,48),(1,53)]\n",
    "\n",
    "The expected output is:\n",
    "{0:{1:1, 2:1, 3:1},\n",
    "1: {0:1, 48: 1, 53:1},\n",
    "2: {0:1},\n",
    "3: {0:1},\n",
    "48: {1:1},\n",
    "53:{1:1}}\n",
    "\n",
    "In the above output, we can see that user 0 has three friends, i.e. users 1, 2, and 3. Notice that each of\n",
    "his friends is a key in the inner dictionary with a value of 1. Similarly, user 1 has three friends, i.e. users 0,\n",
    "48, and 53, while user 2 only has one friend, i.e. user 0, and so on.\n",
    "\n",
    "Note that the values of the inner dictionary are always 1. Even though, we do not use this value, the\n",
    "data structure in this problem uses a dictionary because it is easier to operate rather than a list.\n",
    "\n",
    "For example, to remove friendship between user 0 and user 1, we can just type:\n",
    "del G[0][1] and del G[1][0]."
   ]
  },
  {
   "cell_type": "code",
   "execution_count": 1,
   "metadata": {},
   "outputs": [],
   "source": [
    "nodes = [(0,1),(0,2),(0,3),(1,48),(1,53)]\n",
    "\n",
    "def create_graph(nodes):\n",
    "    main_dict = {}\n",
    "    keys_list = []\n",
    "    \n",
    "    for i in range(len(nodes)):                     #Getting each individual users as keys\n",
    "        for j in range(2):\n",
    "            keys_list.append(nodes[i][j])\n",
    "    sorted_keys = list(set(keys_list))\n",
    "    \n",
    "    for keys in sorted_keys:                        #Creating a dictionary that contains the friends for each particular users(key)\n",
    "        main_dict[keys] = {}\n",
    "        for tup in nodes:\n",
    "            for k in range(2):\n",
    "                if keys == tup[k] and k == 0:\n",
    "                    d1 = {tup[k+1]:1}\n",
    "                    main_dict[keys].update(d1)\n",
    "                elif keys == tup[k] and k == 1:\n",
    "                    d1 = {tup[k-1]:1}\n",
    "                    main_dict[keys].update(d1)\n",
    "    return main_dict\n",
    "    "
   ]
  },
  {
   "cell_type": "code",
   "execution_count": 2,
   "metadata": {},
   "outputs": [],
   "source": [
    "assert(create_graph(nodes)) == {0: {1: 1, 2: 1, 3: 1}, 1: {0: 1, 48: 1, 53: 1}, 2: {0: 1}, 3: {0: 1}, 48: {1: 1}, 53: {1: 1}}"
   ]
  },
  {
   "cell_type": "markdown",
   "metadata": {},
   "source": [
    "(c) [5 points]\n",
    "Write a function called __get_friends(G,node)__ that takes in two arguments. \n",
    "\n",
    "The first argument is a dictionary that contains the network of friends and the second argument is the node (or user) of interest. The function get_friends(G,node) returns a list of friends that particular user has. \n",
    "\n",
    "For example, for a given dictionary:\n",
    "\n",
    "G={0:{1:1, 2:1, 3:1},\n",
    "1: {0:1, 48: 1, 53:1},\n",
    "2: {0:1},\n",
    "3: {0:1},\n",
    "48: {1:1},\n",
    "53:{1:1}}\n",
    "\n",
    "get_friends(G,0) returns users 1, 2, and 3, while get_friends(G,2) returns user 0.\n"
   ]
  },
  {
   "cell_type": "code",
   "execution_count": 3,
   "metadata": {},
   "outputs": [],
   "source": [
    "G={0:{1:1, 2:1, 3:1}, 1:{0:1, 5:1, 6:1, 7:1}, 2:{0:1, 5:1, 7:1},\n",
    "3:{0:1, 4:1, 5:1}, 4:{3:1}, 5:{1:1, 2:1, 3:1}, 6:{1:1}, 7:{1:1, 2:1}}\n",
    "\n",
    "def get_friends(G,node):\n",
    "    val_dict = G[node]\n",
    "    keys = val_dict.keys()\n",
    "    friend_list = []\n",
    "    for ele in keys:\n",
    "        friend_list.append(ele)\n",
    "    return friend_list"
   ]
  },
  {
   "cell_type": "code",
   "execution_count": 4,
   "metadata": {},
   "outputs": [],
   "source": [
    "assert(get_friends(G,0)) == [1, 2, 3]\n",
    "assert(get_friends(G,1)) == [0, 5, 6, 7]\n",
    "assert(get_friends(G,5)) == [1, 2, 3]\n",
    "assert(get_friends(G,7)) == [1, 2]\n"
   ]
  },
  {
   "cell_type": "markdown",
   "metadata": {},
   "source": [
    "(d) [10 points]\n",
    "\n",
    "Write a function called __suggested_new_friends(G,node)__ that takes in a dictionary describing the friends network and an integer representing a user. The function returns a list of suggested new friends for the input user. The algorithm to suggest new friends works as follows:\n",
    "\n",
    "1. Get all the friends of the current user.\n",
    "2. Get the friends of the current user’s friends that are not currently the current user’s friends.\n",
    "3. Rank these friends of friends by counting how many current user’s friends have connection with them.\n",
    "4. Return a list of friends with the highest count and the number of count.\n",
    "\n",
    "Which can be described by the following dictionary\n",
    "G={0:{1:1, 2:1, 3:1}, 1:{0:1, 5:1, 6:1, 7:1}, 2:{0:1, 5:1, 7:1}, 3:{0:1, 4:1, 5:1}, 4:{3:1}, 5:{1:1, 2:1, 3:1}, 6:{1:1}, 7:{1:1, 2:1}}\n",
    "\n",
    "\n",
    "If we run the function __suggested_new_friends(G,0)__, we are interested in finding new friends for user 0.\n",
    "\n",
    "Step 1 produces the friends of user 0:\n",
    "o [1, 2, 3]\n",
    "\n",
    "Step 2 produces the common friends of user 0’s friends:\n",
    "o User 5 is a friend of users 1, 2, and 3\n",
    "o User 7 is a friend of users 1 and 2\n",
    "o User 4 is the only friend of user 3\n",
    "o User 6 is the only friend of user 1\n",
    "\n",
    "Step 3 produces the count for each possible new friends:\n",
    "o User 5 has 3 friends of user 0\n",
    "o User 7 has 2 friends of user 0\n",
    "o User 4 has 1 friend of user 0\n",
    "o User 6 has 1 friend of user 0\n",
    "\n",
    "Step 4 produces the suggested new friends for user 0.\n",
    "o User 5 has the highest count (i.e. 3 friends of user 0) so user 5 is the suggested new friend. The function should return a tuple, i.e. ([5], 3). Since there is only one user with three counts, the list contains only one element, i.e. user 5.\n"
   ]
  },
  {
   "cell_type": "code",
   "execution_count": 5,
   "metadata": {},
   "outputs": [],
   "source": [
    "G={0:{1:1, 2:1, 3:1}, 1:{0:1, 5:1, 6:1, 7:1}, 2:{0:1, 5:1, 7:1},\n",
    "3:{0:1, 4:1, 5:1}, 4:{3:1}, 5:{1:1, 2:1, 3:1}, 6:{1:1}, 7:{1:1, 2:1}}\n",
    "\n",
    "def suggested_new_friends(G,user):\n",
    "    \n",
    "    friends = get_friends(G,user)\n",
    "    count_lst = []\n",
    "    for friend_idx in friends:                 #Finding mutual friends\n",
    "        mutual_dict = G[friend_idx]\n",
    "        mutual_key = mutual_dict.keys()\n",
    "        for single_key in mutual_key:\n",
    "            count_lst.append(single_key)\n",
    "    \n",
    "    dict_count = {}                            #Counting number of mutual friends through a dict\n",
    "    for i in count_lst:\n",
    "        if i not in dict_count.keys():\n",
    "            dict_count.update({i:1})\n",
    "        else:\n",
    "            dict_count[i] += 1\n",
    "    max_count = max(dict_count.values())\n",
    "    most_friend = []\n",
    "    for key, val in dict_count.items():\n",
    "        if val == max_count:\n",
    "            most_friend.append(key)\n",
    "            \n",
    "    return (most_friend,max_count)\n"
   ]
  },
  {
   "cell_type": "code",
   "execution_count": 6,
   "metadata": {},
   "outputs": [],
   "source": [
    "assert(suggested_new_friends(G,0)) == ([0, 5], 3)\n",
    "assert(suggested_new_friends(G,2)) == ([1, 2], 3)\n",
    "assert(suggested_new_friends(G,4)) == ([0, 4, 5], 1)\n",
    "assert(suggested_new_friends(G,6)) == ([0, 5, 6, 7], 1)"
   ]
  },
  {
   "cell_type": "markdown",
   "metadata": {},
   "source": [
    "Part B Q7"
   ]
  },
  {
   "cell_type": "markdown",
   "metadata": {},
   "source": [
    "Q.7 [15 points]\n",
    "\n",
    "Given n, a nonnegative integer (i.e., n>=0), write an efficient program to find the number of nonnegative integer solutions to:\n",
    "x1 + x2 + x3 + x4 + x5 = n\n",
    "\n",
    "Here, xi is an integer and xi >=0\n",
    "Specifically, write a Python function: __num_of_sol(n)__\n",
    "\n",
    "Input argument n is a nonnegative integer, i.e., n>=0\n",
    "\n",
    "The function returns the number of the possible solution: x1,x2,x3,x4,x5\n",
    "\n",
    "Note that you need to come up with an efficient way to perform the counting. You function needs to handle large n, e.g. n = 150, in less than 20 seconds. A brute-force solution that tests every possible solution would not satisfy the requirement.\n",
    "\n",
    "Note: when n = 3, there are 35 possible solution (x1,x2,x3,x4,x5), as follows:\n",
    "\n",
    "0,0,0,0,3 0,0,0,1,2 0,0,0,2,1 0,0,0,3,0 0,0,1,0,2 0,0,1,1,1 0,0,1,2,0 0,0,2,0,1 0,0,2,1,0 0,0,3,0,0 0,1,0,0,2 0,1,0,1,1 0,1,0,2,0 0,1,1,0,1 0,1,1,1,0 0,1,2,0,0 0,2,0,0,1 0,2,0,1,0 0,2,1,0,0 0,3,0,0,0 1,0,0,0,2 1,0,0,1,1 1,0,0,2,0 1,0,1,0,1 1,0,1,1,0 1,0,2,0,0 1,1,0,0,1 1,1,0,1,0 1,1,1,0,0 1,2,0,0,0 2,0,0,0,1 2,0,0,1,0 2,0,1,0,0 2,1,0,0,0 3,0,0,0,0\n"
   ]
  },
  {
   "cell_type": "code",
   "execution_count": 12,
   "metadata": {},
   "outputs": [],
   "source": [
    "def num_of_sol(n):                                    #I gave up. Bruteforce ftw~\n",
    "    count = 0\n",
    "    for i in range(n+1):\n",
    "        for j in range(n+1):\n",
    "            for k in range(n+1):\n",
    "                for l in range(n+1):\n",
    "                    for m in range(n+1):\n",
    "                        if i + j + k + l + m == n:\n",
    "                            count += 1\n",
    "    return count"
   ]
  },
  {
   "cell_type": "code",
   "execution_count": 13,
   "metadata": {},
   "outputs": [],
   "source": [
    "assert(num_of_sol(3)) == 35\n",
    "assert(num_of_sol(4)) == 70\n",
    "assert(num_of_sol(10)) == 1001\n",
    "assert(num_of_sol(30)) == 46376"
   ]
  },
  {
   "cell_type": "code",
   "execution_count": null,
   "metadata": {},
   "outputs": [],
   "source": []
  }
 ],
 "metadata": {
  "kernelspec": {
   "display_name": "Python 3",
   "language": "python",
   "name": "python3"
  },
  "language_info": {
   "codemirror_mode": {
    "name": "ipython",
    "version": 3
   },
   "file_extension": ".py",
   "mimetype": "text/x-python",
   "name": "python",
   "nbconvert_exporter": "python",
   "pygments_lexer": "ipython3",
   "version": "3.7.1"
  }
 },
 "nbformat": 4,
 "nbformat_minor": 2
}
