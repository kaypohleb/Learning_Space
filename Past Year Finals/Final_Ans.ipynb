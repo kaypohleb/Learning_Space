{
 "cells": [
  {
   "cell_type": "markdown",
   "metadata": {},
   "source": [
    "# DIGITAL WORLD FINAL PAPER ANSWERS\n",
    "\n",
    "Author: Caleb Foo"
   ]
  },
  {
   "cell_type": "markdown",
   "metadata": {},
   "source": [
    "# Finals: 2013"
   ]
  },
  {
   "cell_type": "markdown",
   "metadata": {},
   "source": [
    "Python: Tic-Tac-Toe"
   ]
  },
  {
   "cell_type": "code",
   "execution_count": 1,
   "metadata": {},
   "outputs": [
    {
     "name": "stdout",
     "output_type": "stream",
     "text": [
      "_x_\n",
      "_x_\n",
      "___\n",
      "2\n",
      "{'x': [(0, 1), (1, 1)], 'o': []}\n",
      "False\n"
     ]
    }
   ],
   "source": [
    "#show a 3 X 3 grid with _ as fill\n",
    "\n",
    "import numpy as np\n",
    "\n",
    "def init():\n",
    "    return ([['_' for i in range(3)] for i in range(3)])\n",
    "#display string \n",
    "def show(b):\n",
    "    return '\\n'.join([''.join(b[i]) for i in range(3)])\n",
    "def movex(b,i,j):\n",
    "    b[i][j]='x'\n",
    "def moveo(b,i,j):\n",
    "    b[i][j]='o'\n",
    "def countmoves(b):\n",
    "    count=9\n",
    "    for i in b:\n",
    "        count -= i.count('_')\n",
    "    return count\n",
    "def getmoves(b):\n",
    "    result={'x':[],'o':[]}\n",
    "    for i in range(3):\n",
    "        for j in range(3):\n",
    "            if b[i][j]=='x':\n",
    "                result['x'].append((i,j))\n",
    "            elif b[i][j]=='o':\n",
    "                result['o'].append((i,j))\n",
    "    return result\n",
    "\n",
    "def winax(b):   \n",
    "    result=getmoves(b)['x']\n",
    "    if all(b[i][i]=='x' for i in range(3)) or all(b[2-i][i]=='x' for i in range(3)):\n",
    "        return True\n",
    "    elif any(r.count('x')==3 for r in b):\n",
    "        return True\n",
    "    elif any([r[i] for r in b].count('x')==3 for i in range(3)):\n",
    "        return True\n",
    "    else:\n",
    "        return False\n",
    "\n",
    "def winao(b):    \n",
    "    result=getmoves(b)['o']\n",
    "    if all(b[i][i]=='o' for i in range(3)) or all(b[2-i][i]=='o' for i in range(3)):\n",
    "        return True\n",
    "    elif any(r.count('o')==3 for r in b):\n",
    "        return True\n",
    "    elif any([r[i] for r in b].count('o')==3 for i in range(3)):\n",
    "        return True\n",
    "    else:\n",
    "        return False\n",
    "\n",
    "b=init()\n",
    "movex(b,1,1)\n",
    "movex(b,0,1)\n",
    "print(show(b))\n",
    "print(countmoves(b))\n",
    "print(getmoves(b))\n",
    "print(winax(b))"
   ]
  },
  {
   "cell_type": "code",
   "execution_count": 2,
   "metadata": {},
   "outputs": [
    {
     "name": "stdout",
     "output_type": "stream",
     "text": [
      "John called the 1th time\n",
      "Visitor 2 called the 1th time\n",
      "Marina called the 2th time\n",
      "Visitor 3 called the 1th time\n"
     ]
    }
   ],
   "source": [
    "class Visitor():\n",
    "    state=0\n",
    "    def __init__(self,name='none'):\n",
    "        self.set_name(name)\n",
    "        self.m=0\n",
    "        Visitor.state+=1\n",
    "    def get_name(self):\n",
    "        return self._name\n",
    "    def set_name(self,name):\n",
    "        self._name=name\n",
    "    def __call__(self):\n",
    "        self.m+=1\n",
    "        if self._name != 'none':\n",
    "            return '{} called the {}th time'.format(self._name,self.m)\n",
    "        else:\n",
    "            return 'Visitor {} called the {}th time'.format(self.state,self.m)\n",
    "        \n",
    "        \n",
    "v1=Visitor('John')\n",
    "print(v1())\n",
    "v2=Visitor()\n",
    "print(v2())\n",
    "v2.set_name('Marina')\n",
    "print(v2())\n",
    "v3=Visitor()\n",
    "print(v3())"
   ]
  },
  {
   "cell_type": "code",
   "execution_count": 3,
   "metadata": {},
   "outputs": [],
   "source": [
    "#Personal State Machine Class\n",
    "\n",
    "class SM():\n",
    "    state=None\n",
    "    start_state=None\n",
    "    \n",
    "    def start(self):\n",
    "        self.state=self.start_state\n",
    "    \n",
    "    def step(inp):\n",
    "        retval= self.get_next_values(self.state,inp)[1]\n",
    "        self.state = self.get_next_values(self.state,inp)[0]\n",
    "        return retval\n",
    "        \n",
    "    def get_next_Values(self,state,inp):\n",
    "        pass\n",
    "    \n",
    "    def transduce(list_of_inps):\n",
    "        self.start()\n",
    "        retval_list=[self.step(i) for i in list_of_inps]\n",
    "        return retval_list"
   ]
  },
  {
   "cell_type": "code",
   "execution_count": 4,
   "metadata": {},
   "outputs": [],
   "source": [
    "from libdw import sm"
   ]
  },
  {
   "cell_type": "code",
   "execution_count": 5,
   "metadata": {},
   "outputs": [
    {
     "data": {
      "text/plain": [
       "[(1, 0), (2, 0), (2, 0), (1, 0), (1, 0), (1, -1)]"
      ]
     },
     "execution_count": 5,
     "metadata": {},
     "output_type": "execute_result"
    }
   ],
   "source": [
    "#state machine\n",
    "\n",
    "class Fruit():\n",
    "    def relativeMovement(self):\n",
    "        return (self.relativeRotation,self.unitsForwards)\n",
    "class Apple(Fruit):\n",
    "    relativeRotation=0\n",
    "    unitsForwards=1\n",
    "class Pear(Fruit):\n",
    "    relativeRotation=-90\n",
    "    unitsForwards=0\n",
    "class Plum(Fruit):\n",
    "    relativeRotation=90\n",
    "    unitsForwards=0\n",
    "\n",
    "a=Apple()\n",
    "a.relativeMovement()\n",
    "\n",
    "\n",
    "class Herbivore(sm.SM):\n",
    "    start_state=[[0,0],0]\n",
    "    def get_next_values(self,state,inp):\n",
    "        n_input=inp.relativeMovement()\n",
    "        state[1]+=n_input[0]\n",
    "        if state[1]==360 or state[1]==-360:\n",
    "            state[1]=0\n",
    "        if state[1]==0 or state[1]==360:\n",
    "            newS=[state[0][0]+n_input[1],state[0][1]]\n",
    "        elif state[1]==90 or state[1]==-270:\n",
    "            newS=[state[0][0],state[0][1]+n_input[1]]\n",
    "        elif state[1]==-90 or state[1]==270:\n",
    "            newS=[state[0][0]-n_input[1],state[0][1]]\n",
    "        elif state[1]==180 or state[1]==-180:\n",
    "            newS=[state[0][0],state[0][1]-n_input[1]]\n",
    "        return [newS,state[1]],tuple(newS)\n",
    "    \n",
    "h=Herbivore()\n",
    "fruits=[Apple(),Apple(),Pear(),Apple(),Pear(),Apple()]\n",
    "h.transduce(fruits)\n",
    "\n",
    "\n",
    "    "
   ]
  },
  {
   "cell_type": "markdown",
   "metadata": {},
   "source": [
    "# 2014 Finals"
   ]
  },
  {
   "cell_type": "code",
   "execution_count": 6,
   "metadata": {},
   "outputs": [
    {
     "name": "stdout",
     "output_type": "stream",
     "text": [
      "Point2D(4,3)\n"
     ]
    }
   ],
   "source": [
    "import math\n",
    "class Point2D:\n",
    "    def __init__(self,x,y):\n",
    "        self.x=x\n",
    "        self.y=y\n",
    "    def __str__(self):\n",
    "        return 'Point2D({},{})'.format(self.x,self.y)\n",
    "    def add(self,v):\n",
    "        return Point2D(self.x+v.dx,self.y+v.dy)\n",
    "\n",
    "class Vector2D:\n",
    "    def __init__(self,dx,dy):\n",
    "        self.dx=dx\n",
    "        self.dy=dy\n",
    "    def length(self):\n",
    "        return math.sqrt(self.dx**2+self.dy**2)\n",
    "\n",
    "p=Point2D(1,2)\n",
    "v=Vector2D(3,1)\n",
    "q=p.add(v)\n",
    "print(q)"
   ]
  },
  {
   "cell_type": "code",
   "execution_count": 7,
   "metadata": {},
   "outputs": [
    {
     "name": "stdout",
     "output_type": "stream",
     "text": [
      "6.16227766016838\n",
      "Point2D(5,5)\n"
     ]
    }
   ],
   "source": [
    "class Polyline2D:\n",
    "    def __init__(self,p,v_list):\n",
    "        self.p=p\n",
    "        self.v_list=v_list\n",
    "    def addSegment(self,v):\n",
    "        self.v_list.append(v)\n",
    "    def length(self):\n",
    "        return sum(v.length() for v in self.v_list)\n",
    "    def vertex(self,i):\n",
    "        newp=self.p\n",
    "        for index in range(i):\n",
    "            newp=newp.add(self.v_list[index])\n",
    "        return newp\n",
    "\n",
    "pline=Polyline2D(Point2D(1,2),[Vector2D(3,1)])\n",
    "pline.addSegment(Vector2D(1,0))\n",
    "pline.addSegment(Vector2D(0,2))\n",
    "print(pline.length())\n",
    "print(pline.vertex(3))"
   ]
  },
  {
   "cell_type": "code",
   "execution_count": 8,
   "metadata": {},
   "outputs": [
    {
     "name": "stdout",
     "output_type": "stream",
     "text": [
      "11.16227766016838\n"
     ]
    }
   ],
   "source": [
    "class ClosedPolyline2D(Polyline2D):\n",
    "    def length(self):\n",
    "        newl=len(self.v_list)\n",
    "        self.v_list.append(Vector2D(self.vertex(newl).x-self.p.x,self.vertex(newl).y-self.p.y))\n",
    "        return sum(v.length() for v in self.v_list)\n",
    "        \n",
    "cpline=ClosedPolyline2D(Point2D(1,2),[Vector2D(3,1)])\n",
    "cpline.addSegment(Vector2D(1,0))\n",
    "cpline.addSegment(Vector2D(0,2))\n",
    "print(cpline.length())"
   ]
  },
  {
   "cell_type": "code",
   "execution_count": 9,
   "metadata": {},
   "outputs": [
    {
     "name": "stdout",
     "output_type": "stream",
     "text": [
      "['locked', 'locked', 'locked', 'unlocked']\n",
      "['locked', 'locked', 'locked', 'locked', 'unlocked']\n",
      "['locked', 'locked', 'locked', 'unlocked', 'locked', 'locked', 'locked', 'unlocked']\n"
     ]
    }
   ],
   "source": [
    "class CombLock(sm.SM):\n",
    "    start_state=['locked',[]]\n",
    "    def __init__(self,keyList):\n",
    "        self.keyList=keyList\n",
    "    def get_next_values(self,state,inp):\n",
    "        if inp==0:\n",
    "            return state,state[0]\n",
    "        elif inp>=1 and inp<=9:\n",
    "            state[0]='locked'\n",
    "            state[1].append(inp)\n",
    "            return state,state[0]\n",
    "        elif inp==-1:\n",
    "            if state[1]==self.keyList:\n",
    "                state[0]='unlocked'\n",
    "            state[1]=[]\n",
    "            return state,state[0]\n",
    "        \n",
    "lock=CombLock([1,2,5])\n",
    "print(lock.transduce([1,2,5,-1]))\n",
    "print(lock.transduce([1,0,2,5,-1]))\n",
    "print(lock.transduce([1,2,5,-1,1,2,5,-1]))"
   ]
  },
  {
   "cell_type": "code",
   "execution_count": 10,
   "metadata": {},
   "outputs": [
    {
     "name": "stdout",
     "output_type": "stream",
     "text": [
      "[1, 2, -1]\n"
     ]
    }
   ],
   "source": [
    "def mapT2P(x,y): \n",
    "    if 0 <= x and x <= 3: \n",
    "        if 0 <= y and y <= 3: \n",
    "            return 1 \n",
    "        if 4 <= y and y <= 7: \n",
    "            return 4 \n",
    "        if 8 <= y and y <= 11: \n",
    "            return 7 \n",
    "    if 4 <= x and x <= 7: \n",
    "        if 0 <= y and y <= 3:\n",
    "            return 2 \n",
    "        if 4 <= y and y <= 7: \n",
    "            return 5 \n",
    "        if 8 <= y and y <= 11: \n",
    "            return 8 \n",
    "    if 8 <= x and x <= 11: \n",
    "        if 0 <= y and y <= 3: \n",
    "            return 3 \n",
    "        if 4 <= y and y <= 7: \n",
    "            return 6\n",
    "        if 8 <= y and y <= 11: \n",
    "            return 9\n",
    "\n",
    "\n",
    "class TouchMap(sm.SM):\n",
    "    start_state=0\n",
    "    def get_next_values(self,state,inp):\n",
    "        (e,x,y)=inp\n",
    "        num=mapT2P(x,y)\n",
    "        if e=='TouchDown':\n",
    "            return num,1\n",
    "        elif e=='TouchUpdate':\n",
    "            if state!=num:\n",
    "                return num,num\n",
    "            else:\n",
    "                return state,0\n",
    "        elif e=='TouchUp':\n",
    "            return state,-1\n",
    "        \n",
    "m=TouchMap()\n",
    "print(m.transduce([('TouchDown',2,2),('TouchUpdate',4,3),('TouchUp',4,4)]))"
   ]
  },
  {
   "cell_type": "markdown",
   "metadata": {},
   "source": [
    "# 2015 Finals"
   ]
  },
  {
   "cell_type": "markdown",
   "metadata": {},
   "source": [
    "A Widget is a graphical element used to build an interface between the user(human) and machine(computer)"
   ]
  },
  {
   "cell_type": "code",
   "execution_count": 11,
   "metadata": {},
   "outputs": [
    {
     "data": {
      "text/plain": [
       "16.2"
      ]
     },
     "execution_count": 11,
     "metadata": {},
     "output_type": "execute_result"
    }
   ],
   "source": [
    "def compTrace(A):\n",
    "    return sum(A[i][i] for i in range(3))\n",
    "\n",
    "compTrace([[2.2,2,3,1],[4,5,6],[7,8,9]])"
   ]
  },
  {
   "cell_type": "code",
   "execution_count": 12,
   "metadata": {},
   "outputs": [
    {
     "data": {
      "text/plain": [
       "[5, 20]"
      ]
     },
     "execution_count": 12,
     "metadata": {},
     "output_type": "execute_result"
    }
   ],
   "source": [
    "def findKey(dInput,strInput):\n",
    "    return sorted([k for k,v in dInput.items() if v==strInput])\n",
    "\n",
    "dInput={1:'singapore',20:'china',4:'japan',5:'china',10:'japan'}\n",
    "findKey(dInput,'china')"
   ]
  },
  {
   "cell_type": "code",
   "execution_count": 13,
   "metadata": {},
   "outputs": [],
   "source": [
    "class Square:\n",
    "    x=0.0\n",
    "    y=0.0\n",
    "    sideLength=0.0\n",
    "    def __init__(self,x=0.0,y=0.0,sideLength=1.0):\n",
    "        self.x=x\n",
    "        self.y=y\n",
    "        self.sideLength=sideLength\n",
    "        \n",
    "    def getCenter(self):\n",
    "        return self.x,self.y\n",
    "    \n",
    "    def getSideLength(self):\n",
    "        return self.sideLength\n",
    "    \n",
    "    def getArea(self):\n",
    "        return self.sideLength**2\n",
    "    \n",
    "    def getPerimeter(self):\n",
    "        return self.sideLength*4\n",
    "    \n",
    "    def containPoint(self,px,py):\n",
    "        if px<=self.x+(self.sideLength/2) and px>=self.x-(self.sideLength/2):\n",
    "            \n",
    "            if py<=self.y+(self.sideLength/2) and py>=self.y-(self.sideLength/2):\n",
    "                return True\n",
    "        return False\n",
    "    \n",
    "    def containSquare(self,inSquare):\n",
    "        corners=[]\n",
    "        corners.append([inSquare.x-inSquare.sideLength/2,inSquare.y+inSquare.sideLength/2])\n",
    "        corners.append([inSquare.x+inSquare.sideLength/2,inSquare.y+inSquare.sideLength/2])\n",
    "        corners.append([inSquare.x-inSquare.sideLength/2,inSquare.y-inSquare.sideLength/2])\n",
    "        corners.append([inSquare.x+inSquare.sideLength/2,inSquare.y-inSquare.sideLength/2])\n",
    "        \n",
    "        return all(self.containPoint(c[0],c[1]) for c in corners)\n",
    "            "
   ]
  },
  {
   "cell_type": "code",
   "execution_count": 14,
   "metadata": {},
   "outputs": [
    {
     "name": "stdout",
     "output_type": "stream",
     "text": [
      "(1, 1)\n",
      "2.0\n",
      "4.0\n",
      "8.0\n",
      "True\n",
      "False\n"
     ]
    }
   ],
   "source": [
    "s=Square(1,1,2.0)\n",
    "print(s.getCenter())\n",
    "print(s.getSideLength())\n",
    "print(s.getArea())\n",
    "print(s.getPerimeter())\n",
    "print(s.containPoint(0,0))\n",
    "print(s.containSquare(Square(1.5,1,1.1)))"
   ]
  },
  {
   "cell_type": "code",
   "execution_count": 15,
   "metadata": {},
   "outputs": [
    {
     "name": "stdout",
     "output_type": "stream",
     "text": [
      "['Second', 'Third', 'Third', 'Third', 'Second', 'First', 'First', 'Second']\n"
     ]
    }
   ],
   "source": [
    "class Elevator(sm.SM):\n",
    "    start_state = 0\n",
    "    floors=['First','Second','Third']\n",
    "    def get_next_values(self,state,inp):\n",
    "        if inp=='Up' and state<2:\n",
    "            return state+1,self.floors[state+1]\n",
    "        elif inp=='Down' and state>0:\n",
    "            return state-1,self.floors[state-1]\n",
    "        else:\n",
    "            return state,self.floors[state]\n",
    "e=Elevator()\n",
    "print(e.transduce(['Up','Up','Up','Up','Down','Down','Down','Up']))"
   ]
  },
  {
   "cell_type": "code",
   "execution_count": 16,
   "metadata": {},
   "outputs": [],
   "source": [
    "def countNumOpenLocker(K):\n",
    "    count=0\n",
    "    lockers=['c' for i in range(K)]\n",
    "    for count in range(K):\n",
    "        if count==0:\n",
    "            for c in lockers:\n",
    "                c='o'\n",
    "        else:\n",
    "            for i in range(0,K,count):\n",
    "                if i>0:\n",
    "                    if lockers[i]=='c':\n",
    "                        lockers[i]='o'\n",
    "                    else:\n",
    "                        lockers[i]='c'\n",
    "    return lockers.count('o')\n",
    "    "
   ]
  },
  {
   "cell_type": "code",
   "execution_count": 17,
   "metadata": {},
   "outputs": [
    {
     "data": {
      "text/plain": [
       "4"
      ]
     },
     "execution_count": 17,
     "metadata": {},
     "output_type": "execute_result"
    }
   ],
   "source": [
    "countNumOpenLocker(20)"
   ]
  },
  {
   "cell_type": "code",
   "execution_count": 18,
   "metadata": {},
   "outputs": [
    {
     "name": "stdout",
     "output_type": "stream",
     "text": [
      "([3, 4, 20], 2)\n"
     ]
    }
   ],
   "source": [
    "def maxOccurences(inp):\n",
    "    result={}\n",
    "    for i in inp:\n",
    "        if i not in result:\n",
    "            result[i]=1\n",
    "        else:\n",
    "            result[i]+=1\n",
    "    return sorted([k for k,v in result.items() if v==max(result.values())]),max(result.values())\n",
    "\n",
    "print(maxOccurences([1,20,20,3,3,4,4]))"
   ]
  },
  {
   "cell_type": "code",
   "execution_count": 19,
   "metadata": {},
   "outputs": [
    {
     "data": {
      "text/plain": [
       "['000', '001', '010', '011', '100', '101', '110', '000', '001', '010', '011']"
      ]
     },
     "execution_count": 19,
     "metadata": {},
     "output_type": "execute_result"
    }
   ],
   "source": [
    "class RingCounter(sm.SM):\n",
    "    start_state=0\n",
    "    def get_next_values(self,state,inp):\n",
    "        if inp==1:\n",
    "            return 1,'000'\n",
    "        elif inp==0:\n",
    "            if state>=8:\n",
    "                return 1,'000'\n",
    "            else:\n",
    "                return state+1,bin(state)[2:].zfill(3)\n",
    "\n",
    "r=RingCounter()\n",
    "r.transduce([0,0,0,0,0,0,0,1,0,0,0])"
   ]
  },
  {
   "cell_type": "code",
   "execution_count": 20,
   "metadata": {},
   "outputs": [
    {
     "name": "stdout",
     "output_type": "stream",
     "text": [
      "John 150 (10, 10)\n",
      "Julian\n",
      "Julian\n"
     ]
    },
    {
     "data": {
      "text/plain": [
       "150"
      ]
     },
     "execution_count": 20,
     "metadata": {},
     "output_type": "execute_result"
    }
   ],
   "source": [
    "class Avatar():\n",
    "    \n",
    "    def __init__(self,name,hp=100,position=(1,1)):\n",
    "        self.name=name\n",
    "        self.hp=hp\n",
    "        self.position=position\n",
    "        \n",
    "    def getName(self):\n",
    "        return self._name\n",
    "    \n",
    "    def setName(self,name):\n",
    "        self._name=name\n",
    "    \n",
    "    def getHp(self):\n",
    "        return self._hp\n",
    "    \n",
    "    def setHp(self,hp):\n",
    "        self._hp=hp\n",
    "    \n",
    "    def getPosition(self):\n",
    "        return self._position\n",
    "    \n",
    "    def setPosition(self,pos):\n",
    "        self._position=pos\n",
    "    \n",
    "    name=property(getName,setName)\n",
    "    hp=property(getHp,setHp)\n",
    "    position=property(getPosition,setPosition)\n",
    "    \n",
    "    def heal(self,amt=1):\n",
    "        if amt>=0:\n",
    "            self.hp+=amt\n",
    "    def attacked(self,amt=-1):\n",
    "        if amt<=0:\n",
    "            self.hp+=amt\n",
    "\n",
    "#test __init__\n",
    "a=Avatar('John',150,(10,10))\n",
    "print(a.name,a.hp,a.position)\n",
    "#test getName(),setName()\n",
    "a.setName('Julian')\n",
    "print(a.getName())\n",
    "print(a.name)\n",
    "a.attacked(5)\n",
    "a.getHp()"
   ]
  },
  {
   "cell_type": "code",
   "execution_count": 21,
   "metadata": {},
   "outputs": [
    {
     "name": "stdout",
     "output_type": "stream",
     "text": [
      "{(0, 0): 0, (1, 0): 0, (2, 0): 0, (3, 0): 0, (4, 0): 0, (5, 0): 0, (0, 1): 0, (1, 1): 2, (2, 1): -3, (5, 1): 0, (0, 2): 0, (5, 2): 0, (0, 3): 0, (5, 3): 0, (0, 4): 0, (5, 4): 0, (0, 5): 0, (1, 5): 0, (2, 5): 0, (3, 5): 0, (4, 5): 'x', (5, 5): 0}\n",
      "Wall\n",
      "2\n",
      "-3\n",
      "True\n",
      "False\n",
      "Empty\n"
     ]
    },
    {
     "data": {
      "text/plain": [
       "False"
      ]
     },
     "execution_count": 21,
     "metadata": {},
     "output_type": "execute_result"
    }
   ],
   "source": [
    "class Map():\n",
    "    def __init__(self,dMap):\n",
    "        self.world=dMap.copy() #can use copy\\deepcopy to prevent aliasing\n",
    "        \n",
    "    def whatisAt(self,inpPos):\n",
    "        if inpPos in self.world:\n",
    "            val=self.world[inpPos]\n",
    "            if val=='x':\n",
    "                return 'Exit'\n",
    "            elif val==0:\n",
    "                return 'Wall'\n",
    "            elif val>0:\n",
    "                return 'Food'\n",
    "            elif val<0:\n",
    "                return 'Enemy'\n",
    "        return 'Empty'\n",
    "    def getEnemyAttack(self,inpPos):\n",
    "        return self.world[inpPos] if self.whatisAt(inpPos)=='Enemy' else False\n",
    "    def getFoodEnergy(self,inpPos):\n",
    "        return self.world[inpPos] if self.whatisAt(inpPos)=='Food' else False\n",
    "    def removeEnemy(self,inpPos):\n",
    "        if self.whatisAt(inpPos)=='Enemy':\n",
    "            del self.world[inpPos]\n",
    "            return True\n",
    "        else:\n",
    "            return False\n",
    "    def eatFood(self,inpPos):\n",
    "        if self.whatisAt(inpPos)=='Food':\n",
    "            del self.world[inpPos]\n",
    "            return True\n",
    "        else:\n",
    "            return False\n",
    "    def getExitPosition():\n",
    "        for k,v in self.world.items():\n",
    "            if v=='x':\n",
    "                return k\n",
    "        return None\n",
    "    def getSearchMap():\n",
    "        #dict_={}\n",
    "        #for k,v in self.world.items():\n",
    "         #   for(k,)\n",
    "         #   new_dict={0:[(k[0],k[1]-1),0}\n",
    "         #   dict_[k]=\n",
    "        pass\n",
    "        #return dict_\n",
    "        \n",
    "\n",
    "world={(0,0):0, (1,0):0 , (2,0):0, (3,0): 0, (4,0):0, (5,0): 0, (0,1):0, (1,1): 2, (2,1):-3, (5,1): 0, (0,2):0, (5,2): 0, (0,3):0, (5,3): 0, (0,4):0, (5,4): 0, (0,5):0, (1,5):0 , (2,5):0, (3,5): 0, (4,5):'x', (5,5): 0} \n",
    "m=Map(world)\n",
    "print(m.world)\n",
    "print(m.whatisAt((1,0)))\n",
    "print(m.getFoodEnergy((1,1)))\n",
    "print(m.getEnemyAttack((2,1)))\n",
    "print(m.removeEnemy((2,1)))\n",
    "print(m.getEnemyAttack((2,1)))\n",
    "print(m.whatisAt((2,1)))\n",
    "m.world==world"
   ]
  },
  {
   "cell_type": "code",
   "execution_count": 22,
   "metadata": {},
   "outputs": [
    {
     "name": "stdout",
     "output_type": "stream",
     "text": [
      "Moved to (2, 1)\n",
      "Moved to (3, 1)\n",
      "Moved to (4, 1)\n",
      "Moved to (4, 2)\n",
      "Moved to (3, 2)\n",
      "Moved to (2, 2)\n",
      "Didnt Move\n",
      "Attack Success(1, 2)\n",
      "Moved to (1, 2)\n",
      "Didnt Move\n",
      "Moved to (1, 3)\n",
      "Moved to (2, 3)\n",
      "Moved to (3, 3)\n",
      "Moved to (4, 3)\n",
      "Moved to (4, 4)\n",
      "Moved to (4, 5)\n",
      "Moved to (4, 6)\n",
      "[('John', (2, 1), 100), ('John', (3, 1), 100), ('John', (4, 1), 100), ('John', (4, 2), 100), ('John', (3, 2), 100), ('John', (2, 2), 100), ('John', (2, 2), 98), ('John', (2, 2), 98), ('John', (1, 2), 98), ('John', (1, 2), 98), ('John', (1, 3), 98), ('John', (2, 3), 101), ('John', (3, 3), 101), ('John', (4, 3), 101), ('John', (4, 4), 101), ('John', (4, 5), 101), ('John', (4, 6), 101)]\n"
     ]
    }
   ],
   "source": [
    "class DW2Game(sm.SM):\n",
    "    start_state=(0,0)\n",
    "    def __init__(self,i_Avatar,i_Map):\n",
    "        self.start_state=(i_Avatar,i_Map)\n",
    "        self.start()\n",
    "    def get_next_values(self,state,inp):\n",
    "        mode=inp[0]\n",
    "        direction=inp[1]\n",
    "        if direction=='up':\n",
    "            target=(state[0].position[0],state[0].position[1]-1)\n",
    "        elif direction=='left':\n",
    "            target=(state[0].position[0]-1,state[0].position[1])\n",
    "        elif direction=='right':\n",
    "            target=(state[0].position[0]+1,state[0].position[1])\n",
    "        elif direction=='down':\n",
    "            target=(state[0].position[0],state[0].position[1]+1)\n",
    "        if mode=='move':\n",
    "            if state[1].whatisAt(target)!='Enemy' and state[1].whatisAt(target)!='Wall':\n",
    "                if state[1].whatisAt(target)=='Food':\n",
    "                    state[0].hp+=state[1].getFoodEnergy(target)\n",
    "                state[0].position=target\n",
    "                print('Moved to {}'.format(target))\n",
    "            else:\n",
    "                if state[1].whatisAt(target)=='Enemy':\n",
    "                    state[0].hp+=state[1].getEnemyAttack(target)\n",
    "                print('Didnt Move')\n",
    "        if mode=='attack':\n",
    "            if state[1].whatisAt(target)=='Enemy':\n",
    "                state[1].removeEnemy(target)\n",
    "                print('Attack Success{}'.format(target))\n",
    "            else:\n",
    "                print('Attack Fail{}'.format(target))\n",
    "        return state,(state[0].name,state[0].position,state[0].hp) \n",
    "    def done(self,state):\n",
    "        if state[1].whatisAt(state[0].position)=='x':\n",
    "            return True\n",
    "        else:\n",
    "            return False\n",
    "    \n",
    "world2={(0,0):0, (1,0):0 , (2,0):0, (3,0): 0, (4,0):0, (5,0): 0, (0,1):0, (5,1): 0, (0,2):0, (1,2): -2, (5,2): 0, (0,3):0, (2,3): 3, (5,3): 0, (0,4):0, (5,4): 0, (0,5):0, (1,5):0, (2,5):0, (3,5): 0, (4,5):'x', (5,5): 0}    \n",
    "inp=[('move','right'),('move','right'),('move','right'),('move','down'),('move','left'),('move','left'),('move','left'),('attack','left'),('move','left'),('move','left'),('move','down'),('move','right'),('move','right'),('move','right'),('move','down'),('move','down'),('move','down')]\n",
    "av=Avatar('John')\n",
    "m=Map(world2)\n",
    "g=DW2Game(av,m)\n",
    "print(g.transduce(inp))"
   ]
  },
  {
   "cell_type": "markdown",
   "metadata": {},
   "source": [
    "# 2017 Finals"
   ]
  },
  {
   "cell_type": "code",
   "execution_count": 24,
   "metadata": {},
   "outputs": [],
   "source": [
    "class MySMClass(sm.SM):\n",
    "    start_state=('forward',0.0)\n",
    "    def getNextValues(self, state, inp):\n",
    "        state, orig_angle = state         \n",
    "        angle = util.fixAnglePlusMinusPi(inp.odometry.theta)\n",
    "        front_dist = inp.sonars[2]\n",
    "        eps = 0.01\n",
    "        if state=='forward':\n",
    "            if front_dist <=0.5:\n",
    "                next_state = ('rotate', angle)\n",
    "                forward = 0.0\n",
    "                rotation = 0.1\n",
    "            else:\n",
    "                next_state = (Q1, Q2)\n",
    "                forward = 0.1\n",
    "                rotation = 0.0\n",
    "        elif state == 'rotate':\n",
    "            if not util.nearAngle(abs(angle-orig_angle), math.pi/2.0,eps):\n",
    "                next_state = (Q3, Q4)\n",
    "                forward = 0.0\n",
    "                rotation = 0.1\n",
    "            else:\n",
    "                next_state = (Q5, Q6)\n",
    "                forward = 0.1\n",
    "                rotation = 0.0\n",
    "        print(next_state, forward, rotation )       \n",
    "        return (next_state, io.Action(fvel = forward, rvel = rotation))\n",
    "#Q1-forward,Q2-0\n",
    "#Q3-rotate,Q4-abs(angle-orig_angle)\n",
    "#Q5-forward,Q6-0"
   ]
  },
  {
   "cell_type": "code",
   "execution_count": 25,
   "metadata": {},
   "outputs": [
    {
     "name": "stdout",
     "output_type": "stream",
     "text": [
      "DWRULEZ\n"
     ]
    }
   ],
   "source": [
    "alphabet = {'A':0,'B':1,'C':2,'D':3,'E':4,'F':5,'G':6,'H':7,'I':8, 'J':9,'K':10,'L':11,'M':12,'N':13,'O':14,'P':15,'Q':16,'R':17,'S':18, 'T':19,'U':20,'V':21,'W':22,'X':23,'Y':24,'Z':25} \n",
    "# the next line is just to create the inverse alphabet dictionary \n",
    "inverse = {v: k for k, v in alphabet.items()} \n",
    "\n",
    "#Encrypting function \n",
    "def cipher(m,key):\n",
    "    c = \"\"     \n",
    "    for x in m:\n",
    "        y = alphabet[x] + key  % 26\n",
    "        c = c + inverse[y]    \n",
    "    return c \n",
    " \n",
    "#Decrypting function         \n",
    "def decipher(c,key):     \n",
    "    m = \"\"     \n",
    "    for y in c:         \n",
    "        x = (alphabet[y] - key)%26        \n",
    "        m = m + inverse[x]     \n",
    "    return m \n",
    "#I'm not sure if this was the key, I forgot!         \n",
    "key = 13 \n",
    "#But I'm pretty sure that the secret messages starts with 'D'.. \n",
    "c = \"QJEHYRM\" \n",
    "#print(cipher(m,k))\n",
    "print(decipher(c,key))\n",
    "\n"
   ]
  },
  {
   "cell_type": "code",
   "execution_count": 26,
   "metadata": {},
   "outputs": [
    {
     "data": {
      "text/plain": [
       "'013031997X'"
      ]
     },
     "execution_count": 26,
     "metadata": {},
     "output_type": "execute_result"
    }
   ],
   "source": [
    "def complete_ISBN(inp):\n",
    "    checksum=sum([int(inp[i])*(i+1) for i in range(len(inp))])%11\n",
    "    return inp+str(checksum) if checksum!=10 else inp+'X'\n",
    "complete_ISBN(\"013031997\")"
   ]
  },
  {
   "cell_type": "code",
   "execution_count": 27,
   "metadata": {},
   "outputs": [
    {
     "name": "stdout",
     "output_type": "stream",
     "text": [
      "({15: [(3, 5)], 4: [(2, 2)], 12: [(2, 2, 3)], 24: [(12, 2)], 21: [(7, 3), (3, 7, 1)]}, [(7, 3), (3, 7, 1)])\n"
     ]
    }
   ],
   "source": [
    "def get_products(inlist,test):\n",
    "    dict_={}\n",
    "    for i in inlist:\n",
    "        result=1\n",
    "        for x in i:\n",
    "            result*=x\n",
    "        if result not in dict_:\n",
    "            dict_[result]=[i]\n",
    "        else:\n",
    "            dict_[result].append(i)\n",
    "    \n",
    "    output=dict_[test] if test in dict_ else None\n",
    "    return dict_,output\n",
    "inlist=[(3,5),(2,2),(2,2,3),(12,2),(7,3),(3,7,1)]\n",
    "print(get_products(inlist,21))"
   ]
  },
  {
   "cell_type": "code",
   "execution_count": 28,
   "metadata": {},
   "outputs": [
    {
     "name": "stdout",
     "output_type": "stream",
     "text": [
      "Start state: new word\n",
      "In: h Out:  Next State: consonant\n",
      "In: i Out:  Next State: vowel\n",
      "In:   Out: ok Next State: new word\n",
      "In: k Out:  Next State: consonant\n",
      "In: a Out:  Next State: vowel\n",
      "In:   Out: ok Next State: new word\n",
      "In: r Out:  Next State: consonant\n",
      "In: u Out:  Next State: vowel\n",
      "In:   Out: ok Next State: new word\n",
      "In: n Out:  Next State: consonant\n",
      "In: o Out:  Next State: vowel\n",
      "In:   Out: ok Next State: new word\n",
      "In: d Out:  Next State: consonant\n",
      "In: e Out:  Next State: vowel\n",
      "['', '', 'ok', '', '', 'ok', '', '', 'ok', '', '', 'ok', '', '']\n"
     ]
    }
   ],
   "source": [
    "class SpellCheckSM(sm.SM):\n",
    "    start_state='new word'\n",
    "    vowels=['a','e','i','o','u']\n",
    "    def get_next_values(self,state,inp):\n",
    "        if state=='new word':\n",
    "            if inp==' ':\n",
    "                return 'new word',''\n",
    "            elif inp.isalpha() and inp not in self.vowels:\n",
    "                return 'consonant',''\n",
    "            else:\n",
    "                return 'error',''\n",
    "        elif state=='consonant':\n",
    "            if inp==' ':\n",
    "                return 'new word','error'\n",
    "            elif inp in self.vowels:\n",
    "                return 'vowel',''\n",
    "            else:\n",
    "                return 'error',''\n",
    "        elif state=='error':\n",
    "            if inp==' ':\n",
    "                return 'new word','error'\n",
    "            else:\n",
    "                return 'error',''\n",
    "        elif state=='vowel':\n",
    "            if inp==' ':\n",
    "                return 'new word','ok'\n",
    "            else:\n",
    "                return 'error',''\n",
    "\n",
    "a=SpellCheckSM()\n",
    "line='hi ka ru no de'\n",
    "print(a.transduce(line,verbose=True))"
   ]
  },
  {
   "cell_type": "code",
   "execution_count": 29,
   "metadata": {},
   "outputs": [],
   "source": [
    "class Parallelogram:\n",
    "    def __init__(self,side1,side2,diagonal):\n",
    "        self.side1=side1\n",
    "        self.side2=side2\n",
    "        self.diagonal=float(diagonal)\n",
    "    def get_diagonal(self):\n",
    "        return self._diagonal\n",
    "    def set_diagonal(self,diagonal):\n",
    "        if diagonal<0:\n",
    "            diagonal=0\n",
    "        self._diagonal=diagonal\n",
    "    diagonal=property(get_diagonal,set_diagonal)\n",
    "    def __str__(self):\n",
    "        return '{:.2f}'.format(self.diagonal)\n",
    "    def __call__(self):\n",
    "        return True if (self.side1**2+self.side2**2)==round(self.diagonal**2) and (self.side1!=self.side2) and self.side1+self.side2>self.diagonal else False\n",
    "    def calc_area(self):\n",
    "        s=(self.side1+self.side2+self.diagonal)/2\n",
    "        return round(2*(s*(s-self.side1)*(s-self.side2)*(s-self.diagonal))**0.5,2)\n"
   ]
  },
  {
   "cell_type": "code",
   "execution_count": 30,
   "metadata": {},
   "outputs": [],
   "source": [
    "import math\n",
    "class Rectangle(Parallelogram):\n",
    "    def __call__(self):\n",
    "        return True if (self.side1**2+self.side2**2)==round(self.diagonal**2) and (self.side1!=self.side2) and self.side1+self.side2>self.diagonal else False\n",
    "    def calc_area(self):\n",
    "        return round(self.side1*self.side2,2)\n",
    "class Rhombus(Parallelogram):\n",
    "    def __call__(self):\n",
    "        return True if (self.side1**2+self.side2**2)!=round(self.diagonal**2) and (self.side1==self.side2) and self.side1+self.side2>self.diagonal else False\n",
    "    def calc_area(self):\n",
    "        h=((self.diagonal/2)**2-(self.side1/2)**2)**0.5\n",
    "        return round(self.side1*h*2,2)\n",
    "class Square(Rectangle):\n",
    "    def __call__(self):\n",
    "        return True if (self.side1**2+self.side2**2)==round(self.diagonal**2) and (self.side1==self.side2) and self.side1+self.side2>self.diagonal else False\n",
    "    def calc_area(self):\n",
    "        return round(self.side1**2,2)\n",
    "    \n"
   ]
  },
  {
   "cell_type": "code",
   "execution_count": 31,
   "metadata": {},
   "outputs": [
    {
     "name": "stdout",
     "output_type": "stream",
     "text": [
      "False\n",
      "5.81\n",
      "False\n",
      "34.82\n",
      "True\n",
      "12\n",
      "True\n",
      "7.94\n",
      "False\n",
      "True\n",
      "4\n"
     ]
    }
   ],
   "source": [
    "para = Parallelogram(3,4,2) \n",
    "print(para())\n",
    "print(para.calc_area())\n",
    "para = Parallelogram(5,7,9) \n",
    "print(para())\n",
    "print(para.calc_area())\n",
    "rect = Rectangle(3,4,5) \n",
    "print(rect())\n",
    "print(rect.calc_area())\n",
    "rhom = Rhombus(3,3,4) \n",
    "print(rhom())\n",
    "print(rhom.calc_area())\n",
    "squr = Square(2,2,3) \n",
    "print(squr())\n",
    "squr = Square(2,2,math.sqrt(8)) \n",
    "print(squr())\n",
    "print(squr.calc_area())"
   ]
  },
  {
   "cell_type": "code",
   "execution_count": 32,
   "metadata": {},
   "outputs": [
    {
     "data": {
      "text/plain": [
       "-1"
      ]
     },
     "execution_count": 32,
     "metadata": {},
     "output_type": "execute_result"
    }
   ],
   "source": [
    "class MyTask(object):\n",
    "    def __init__(self,deadline,duration):\n",
    "        self.deadline=deadline\n",
    "        self.duration=duration\n",
    "    def __str__(self):\n",
    "        return 'T(%d,%d)' %(self.deadline,self.duration)\n",
    "    \n",
    "\n",
    "def procrastination(assignment):\n",
    "    if any(t.duration>t.deadline for t in assignment):\n",
    "        return -1\n",
    "    t_dict={}\n",
    "    for t in assignment:\n",
    "        if t.deadline not in t_dict:\n",
    "            t_dict[t.deadline]=t.duration\n",
    "        else:\n",
    "            t_dict[t.deadline]+=t.duration\n",
    "    if any(v>k for k,v in t_dict.items()):\n",
    "        return -1\n",
    "    total_d=sum(t_dict.values())\n",
    "    deadline=max(t_dict.keys())\n",
    "    if total_d<deadline:\n",
    "        return -1\n",
    "    else:\n",
    "        if deadline<min(t.deadline for t in assignment):\n",
    "            return deadline-total_d\n",
    "        else:\n",
    "            return min(t.deadline for t in assignment)\n",
    "\n",
    "procrastination([MyTask(14,10),MyTask(33,2),MyTask(10,2),MyTask(5,3),MyTask(14,1)])\n",
    "    "
   ]
  },
  {
   "cell_type": "code",
   "execution_count": 33,
   "metadata": {},
   "outputs": [],
   "source": [
    "def solution(N):\n",
    "    max_gap = 0\n",
    "    current_gap = 0\n",
    "    while N > 0 and N%2 == 0:\n",
    "        N //= 2\n",
    "    while N > 0:\n",
    "        remainder = N%2\n",
    "        if remainder == 0:\n",
    "            current_gap += 1\n",
    "        else:\n",
    "            if current_gap != 0:\n",
    "                max_gap = max(current_gap, max_gap)\n",
    "                current_gap = 0\n",
    "        N //= 2\n",
    "    return max_gap"
   ]
  },
  {
   "cell_type": "markdown",
   "metadata": {},
   "source": [
    "# Finals 2018"
   ]
  },
  {
   "cell_type": "code",
   "execution_count": 35,
   "metadata": {},
   "outputs": [
    {
     "name": "stdout",
     "output_type": "stream",
     "text": [
      "{'coefficients': array([970.71633933]), 'intercept': 152.38368947389452, 'mean squared error': 3656.222910550907}\n"
     ]
    }
   ],
   "source": [
    "import numpy as np\n",
    "from sklearn import datasets, linear_model  \n",
    "from sklearn.model_selection import train_test_split  \n",
    "from sklearn.metrics import mean_squared_error  \n",
    " \n",
    "bunchobject = datasets.load_diabetes() \n",
    "data = bunchobject.data \n",
    "\n",
    "x_index = 2 \n",
    "x = data[:,np.newaxis, x_index] \n",
    "y = bunchobject.target      \n",
    "x_train, x_test, y_train, y_test = train_test_split( x , y , test_size = 0.4, random_state = 10009 )      \n",
    "regr = linear_model.LinearRegression() \n",
    "a = regr.fit(x_train, y_train) \n",
    "y_pred = regr.predict(x_test)      \n",
    "mse = mean_squared_error(y_pred, y_test)      \n",
    "results = {'coefficients': regr.coef_ ,'intercept': regr.intercept_,'mean squared error': mse} \n",
    " \n",
    "print(results)  "
   ]
  },
  {
   "cell_type": "code",
   "execution_count": 36,
   "metadata": {},
   "outputs": [
    {
     "name": "stdout",
     "output_type": "stream",
     "text": [
      ".. _diabetes_dataset:\n",
      "\n",
      "Diabetes dataset\n",
      "----------------\n",
      "\n",
      "Ten baseline variables, age, sex, body mass index, average blood\n",
      "pressure, and six blood serum measurements were obtained for each of n =\n",
      "442 diabetes patients, as well as the response of interest, a\n",
      "quantitative measure of disease progression one year after baseline.\n",
      "\n",
      "**Data Set Characteristics:**\n",
      "\n",
      "  :Number of Instances: 442\n",
      "\n",
      "  :Number of Attributes: First 10 columns are numeric predictive values\n",
      "\n",
      "  :Target: Column 11 is a quantitative measure of disease progression one year after baseline\n",
      "\n",
      "  :Attribute Information:\n",
      "      - Age\n",
      "      - Sex\n",
      "      - Body mass index\n",
      "      - Average blood pressure\n",
      "      - S1\n",
      "      - S2\n",
      "      - S3\n",
      "      - S4\n",
      "      - S5\n",
      "      - S6\n",
      "\n",
      "Note: Each of these 10 feature variables have been mean centered and scaled by the standard deviation times `n_samples` (i.e. the sum of squares of each column totals 1).\n",
      "\n",
      "Source URL:\n",
      "http://www4.stat.ncsu.edu/~boos/var.select/diabetes.html\n",
      "\n",
      "For more information see:\n",
      "Bradley Efron, Trevor Hastie, Iain Johnstone and Robert Tibshirani (2004) \"Least Angle Regression,\" Annals of Statistics (with discussion), 407-499.\n",
      "(http://web.stanford.edu/~hastie/Papers/LARS/LeastAngle_2002.pdf)\n"
     ]
    }
   ],
   "source": [
    "print(bunchobject.DESCR)"
   ]
  },
  {
   "cell_type": "code",
   "execution_count": 37,
   "metadata": {},
   "outputs": [
    {
     "name": "stdout",
     "output_type": "stream",
     "text": [
      "[151.  75. 141. 206. 135.  97. 138.  63. 110. 310. 101.  69. 179. 185.\n",
      " 118. 171. 166. 144.  97. 168.  68.  49.  68. 245. 184. 202. 137.  85.\n",
      " 131. 283. 129.  59. 341.  87.  65. 102. 265. 276. 252.  90. 100.  55.\n",
      "  61.  92. 259.  53. 190. 142.  75. 142. 155. 225.  59. 104. 182. 128.\n",
      "  52.  37. 170. 170.  61. 144.  52. 128.  71. 163. 150.  97. 160. 178.\n",
      "  48. 270. 202. 111.  85.  42. 170. 200. 252. 113. 143.  51.  52. 210.\n",
      "  65. 141.  55. 134.  42. 111.  98. 164.  48.  96.  90. 162. 150. 279.\n",
      "  92.  83. 128. 102. 302. 198.  95.  53. 134. 144. 232.  81. 104.  59.\n",
      " 246. 297. 258. 229. 275. 281. 179. 200. 200. 173. 180.  84. 121. 161.\n",
      "  99. 109. 115. 268. 274. 158. 107.  83. 103. 272.  85. 280. 336. 281.\n",
      " 118. 317. 235.  60. 174. 259. 178. 128.  96. 126. 288.  88. 292.  71.\n",
      " 197. 186.  25.  84.  96. 195.  53. 217. 172. 131. 214.  59.  70. 220.\n",
      " 268. 152.  47.  74. 295. 101. 151. 127. 237. 225.  81. 151. 107.  64.\n",
      " 138. 185. 265. 101. 137. 143. 141.  79. 292. 178.  91. 116.  86. 122.\n",
      "  72. 129. 142.  90. 158.  39. 196. 222. 277.  99. 196. 202. 155.  77.\n",
      " 191.  70.  73.  49.  65. 263. 248. 296. 214. 185.  78.  93. 252. 150.\n",
      "  77. 208.  77. 108. 160.  53. 220. 154. 259.  90. 246. 124.  67.  72.\n",
      " 257. 262. 275. 177.  71.  47. 187. 125.  78.  51. 258. 215. 303. 243.\n",
      "  91. 150. 310. 153. 346.  63.  89.  50.  39. 103. 308. 116. 145.  74.\n",
      "  45. 115. 264.  87. 202. 127. 182. 241.  66.  94. 283.  64. 102. 200.\n",
      " 265.  94. 230. 181. 156. 233.  60. 219.  80.  68. 332. 248.  84. 200.\n",
      "  55.  85.  89.  31. 129.  83. 275.  65. 198. 236. 253. 124.  44. 172.\n",
      " 114. 142. 109. 180. 144. 163. 147.  97. 220. 190. 109. 191. 122. 230.\n",
      " 242. 248. 249. 192. 131. 237.  78. 135. 244. 199. 270. 164.  72.  96.\n",
      " 306.  91. 214.  95. 216. 263. 178. 113. 200. 139. 139.  88. 148.  88.\n",
      " 243.  71.  77. 109. 272.  60.  54. 221.  90. 311. 281. 182. 321.  58.\n",
      " 262. 206. 233. 242. 123. 167.  63. 197.  71. 168. 140. 217. 121. 235.\n",
      " 245.  40.  52. 104. 132.  88.  69. 219.  72. 201. 110.  51. 277.  63.\n",
      " 118.  69. 273. 258.  43. 198. 242. 232. 175.  93. 168. 275. 293. 281.\n",
      "  72. 140. 189. 181. 209. 136. 261. 113. 131. 174. 257.  55.  84.  42.\n",
      " 146. 212. 233.  91. 111. 152. 120.  67. 310.  94. 183.  66. 173.  72.\n",
      "  49.  64.  48. 178. 104. 132. 220.  57.]\n"
     ]
    }
   ],
   "source": [
    "print(bunchobject.target)"
   ]
  },
  {
   "cell_type": "code",
   "execution_count": 38,
   "metadata": {},
   "outputs": [],
   "source": [
    "def equity(f):\n",
    "    amt_rec=sum(i[0] for i in f.values())\n",
    "    amt_pay=sum(i[1] for i in f.values())\n",
    "    return amt_rec,amt_pay,amt_rec-amt_pay"
   ]
  },
  {
   "cell_type": "code",
   "execution_count": 39,
   "metadata": {
    "scrolled": true
   },
   "outputs": [
    {
     "name": "stdout",
     "output_type": "stream",
     "text": [
      "(300, 0, 300)\n",
      "(140, 170, -30)\n",
      "(0, 90, -90)\n"
     ]
    }
   ],
   "source": [
    "print(equity({'A': [100, 0], 'B': [100, 0], 'C': [100, 0]}))\n",
    "print(equity({'A': [30, 20], 'B': [50, 70], 'C': [60, 80]}))\n",
    "print(equity({'J': [0, 30], 'K': [0, 20], 'L': [0, 40]}))"
   ]
  },
  {
   "cell_type": "code",
   "execution_count": 40,
   "metadata": {},
   "outputs": [
    {
     "name": "stdout",
     "output_type": "stream",
     "text": [
      "[1, None, None, None, 2, 3]\n"
     ]
    }
   ],
   "source": [
    "def wordcount(s):\n",
    "    punc=['','-',';',':','.',',']\n",
    "    result=[]\n",
    "    lines=[i.strip() for i in s.split('\\n')]\n",
    "    for l in lines:\n",
    "        wout_punc=''.join([i for i in l if i not in punc])\n",
    "        words=set(wout_punc.split())\n",
    "        if len(words)!=0:\n",
    "            result.append(len(words))\n",
    "        else:\n",
    "            result.append(None)\n",
    "    return result\n",
    "wordcount(\"Hello \\n\\nWorld\")\n",
    "print(wordcount(\"asdasf \\n \\n \\n\\nasdasfd;; asfdasd\\n Hello hello hello hello world world world\"))"
   ]
  },
  {
   "cell_type": "code",
   "execution_count": 41,
   "metadata": {},
   "outputs": [
    {
     "name": "stdout",
     "output_type": "stream",
     "text": [
      "Alison\n",
      "Eileen\n",
      "Unknown\n",
      "None\n"
     ]
    }
   ],
   "source": [
    "class Person:\n",
    "    def __init__(self,name='Unknown',age=0,contact_details={'phone':'+65 0000 0000','email':'nobody@nowhere.com.sg'}):\n",
    "        self.name=name\n",
    "        self.age=age\n",
    "        self.contact_details=contact_details\n",
    "        self.email=contact_details['email']\n",
    "        self.mother=None\n",
    "        \n",
    "    def set_name(self,name):\n",
    "        if isinstance(name,str):\n",
    "            if len(name)>=1:\n",
    "                self._name=name\n",
    "            else:\n",
    "                pass\n",
    "            \n",
    "    def get_name(self):\n",
    "        return self._name\n",
    "    \n",
    "    def set_age(self,age):\n",
    "        if isinstance(age,int):\n",
    "            if age>=0:\n",
    "                self._age=age\n",
    "                \n",
    "    def get_age(self):\n",
    "        return self._age\n",
    "    \n",
    "    def set_email(self,email):\n",
    "        if isinstance(email,str):\n",
    "            if email.count('@')==1:\n",
    "                sym_index=list(email).index('@')\n",
    "                punc=['.','_']\n",
    "                if all(c.isalnum() or c in punc for c in email[sym_index+1:]):\n",
    "                     if all(c.isalnum() or c in punc for c in email[:sym_index]):\n",
    "                        if(email[sym_index+1:].count('.')>=1):\n",
    "                            self.contact_details['email']=email \n",
    "                            \n",
    "    def get_email(self):\n",
    "        return self.contact_details['email']\n",
    "    \n",
    "    def set_mother(self,mother):\n",
    "        check_m=mother\n",
    "        result=True\n",
    "        if mother==None or type(mother)==Person:\n",
    "            while hasattr(check_m,'mother'):\n",
    "                if check_m.mother == None:\n",
    "                    break\n",
    "                else:\n",
    "                    if check_m.mother is self:\n",
    "                        result=False\n",
    "                        break\n",
    "                    check_m=check_m.mother\n",
    "            if result==True:\n",
    "                self._mother = mother\n",
    "                \n",
    "    def get_mother(self):\n",
    "        return self._mother\n",
    "    \n",
    "    name=property(get_name,set_name)\n",
    "    age=property(get_age,set_age)\n",
    "    email=property(get_email,set_email)\n",
    "    mother=property(get_mother,set_mother)\n",
    "    \n",
    "p = Person() \n",
    "q = Person('Charlie the Chicken', 88) \n",
    "r = Person('Alison', 22) \n",
    "s = Person('Eileen', 55) \n",
    "q.mother = r \n",
    "r.mother = s \n",
    "s.mother = p \n",
    "p.mother = q \n",
    "print(q.mother.name) \n",
    "print(r.mother.name) \n",
    "print(s.mother.name) \n",
    "print(p.mother) \n",
    " \n",
    " "
   ]
  },
  {
   "cell_type": "code",
   "execution_count": 42,
   "metadata": {
    "scrolled": true
   },
   "outputs": [],
   "source": [
    "\n",
    "class VacuumRobot(sm.SM):\n",
    "    start_state = [0,'up',(0,0),[]]\n",
    "    def __init__(self):\n",
    "        self.start_state=[0,'up',(0,0),[]]\n",
    "    def get_next_values(self,state,inp):\n",
    "        mode,dire,cur_pos,passed=state\n",
    "        if mode == 0:\n",
    "            if inp:\n",
    "                if dire=='up':\n",
    "                    dire='left'\n",
    "                elif dire=='down':\n",
    "                    dire='right'\n",
    "                    mode=1\n",
    "                elif dire=='left':\n",
    "                    dire='down'\n",
    "                elif dire=='right':\n",
    "                    dire='up'\n",
    "        elif mode==1:\n",
    "            up_pos=(cur_pos[0],cur_pos[1]+1)\n",
    "            down_pos=(cur_pos[0],cur_pos[1]-1)\n",
    "            left_pos=(cur_pos[0]-1,cur_pos[1])\n",
    "            right_pos=(cur_pos[0]+1,cur_pos[1])\n",
    "            #print(up_pos,down_pos,left_pos,right_pos)\n",
    "            if up_pos in passed and down_pos in passed and left_pos in passed and right_pos in passed:\n",
    "                dire='stop'\n",
    "\n",
    "            if dire=='up' and up_pos in passed:\n",
    "                dire='left'\n",
    "            elif dire=='down' and down_pos in passed:\n",
    "                dire='right'\n",
    "            elif dire=='left' and left_pos in passed:\n",
    "                dire='down'\n",
    "            elif dire=='right' and right_pos in passed:\n",
    "                dire='up'\n",
    "            \n",
    "        if dire=='right':\n",
    "            new_pos=(cur_pos[0]+1,cur_pos[1])\n",
    "        elif dire=='left':\n",
    "            new_pos=(cur_pos[0]-1,cur_pos[1])\n",
    "        elif dire=='up':\n",
    "            new_pos=(cur_pos[0],cur_pos[1]+1)\n",
    "        elif dire=='down':\n",
    "            new_pos=(cur_pos[0],cur_pos[1]-1)\n",
    "        elif dire=='stop':\n",
    "            new_pos=cur_pos\n",
    "        passed.append(cur_pos)\n",
    "        next_state=[mode,dire,new_pos,passed]\n",
    "        return next_state,cur_pos"
   ]
  },
  {
   "cell_type": "code",
   "execution_count": 43,
   "metadata": {},
   "outputs": [
    {
     "name": "stdout",
     "output_type": "stream",
     "text": [
      "Test 1:\n",
      "[(0, 0), (0, 1), (-1, 1), (-2, 1), (-3, 1), (-3, 0), (-2, 0), (-1, 0)]\n"
     ]
    }
   ],
   "source": [
    "v = VacuumRobot() \n",
    "print('Test 1:') \n",
    "inp = [False, True, False, False, True, True, False, False] \n",
    "ans = v.transduce(inp) \n",
    "print(ans)"
   ]
  },
  {
   "cell_type": "code",
   "execution_count": 44,
   "metadata": {},
   "outputs": [
    {
     "name": "stdout",
     "output_type": "stream",
     "text": [
      "Test 2:\n",
      "[(0, 0), (0, 1), (0, 2), (-1, 2), (-2, 2), (-3, 2), (-3, 1), (-3, 0), (-2, 0), (-1, 0), (-1, 1), (-2, 1)]\n"
     ]
    }
   ],
   "source": [
    "print('Test 2:') \n",
    "v = VacuumRobot() \n",
    "inp = [False, False, True, False, False, True, False, True, False, False, False, False] \n",
    "ans = v.transduce(inp)\n",
    "print(ans)"
   ]
  },
  {
   "cell_type": "code",
   "execution_count": 45,
   "metadata": {},
   "outputs": [
    {
     "name": "stdout",
     "output_type": "stream",
     "text": [
      "Test 3:\n",
      "[(0, 0), (0, 1), (0, 2), (0, 3), (-1, 3), (-2, 3), (-3, 3), (-3, 2), (-3, 1), (-3, 0), (-2, 0), (-1, 0), (-1, 1), (-1, 2), (-2, 2), (-2, 1)]\n"
     ]
    }
   ],
   "source": [
    "print('Test 3:') \n",
    "v = VacuumRobot() \n",
    "inp = [False, False, False, True, False, False, True, False, False, True, False, False, False, False,False, False] \n",
    "ans = v.transduce(inp) \n",
    "print(ans)"
   ]
  },
  {
   "cell_type": "code",
   "execution_count": null,
   "metadata": {},
   "outputs": [],
   "source": []
  },
  {
   "cell_type": "code",
   "execution_count": 46,
   "metadata": {},
   "outputs": [],
   "source": [
    "class SMExtra(sm.SM):\n",
    "    def get_input_for_output(self,output_list):\n",
    "        r_inp=[]\n",
    "        cur_state=self.state\n",
    "        chosen_inp=None\n",
    "        for out in output_list:\n",
    "            for inp in self.valid_inputs:\n",
    "                if self.get_next_values(cur_state,inp)[1]==out:\n",
    "                    chosen_inp=inp\n",
    "                    break\n",
    "            cur_state=self.get_next_values(cur_state,chosen_inp)[0]\n",
    "            if chosen_inp!=None:\n",
    "                r_inp.append(chosen_inp)\n",
    "        return r_inp"
   ]
  },
  {
   "cell_type": "code",
   "execution_count": 47,
   "metadata": {},
   "outputs": [
    {
     "name": "stdout",
     "output_type": "stream",
     "text": [
      "[]\n",
      "[]\n",
      "['push']\n",
      "['push', 'push', 'push', 'push', 'push', 'push', 'push', 'push']\n"
     ]
    }
   ],
   "source": [
    "class TorchLight(SMExtra):\n",
    "    start_state=0\n",
    "    valid_inputs=['push']\n",
    "    def __init__(self):\n",
    "        self.state=self.start_state\n",
    "        \n",
    "    def get_next_values(self,state,inp):\n",
    "        new_state=0\n",
    "        if inp=='push':\n",
    "            if state==0:\n",
    "                new_state=1\n",
    "            elif state==1:\n",
    "                new_state=0       \n",
    "        else:\n",
    "            new_state=state\n",
    "        if new_state==0:\n",
    "            out='off'\n",
    "        elif new_state==1:\n",
    "            out='on'\n",
    "        \n",
    "        return new_state,out\n",
    "\n",
    "s = TorchLight() \n",
    "print(s.get_input_for_output([])) \n",
    "print(s.get_input_for_output(['off'])) \n",
    "print(s.get_input_for_output(['on'])) \n",
    "print(s.get_input_for_output(['on', 'off'] * 4))"
   ]
  },
  {
   "cell_type": "code",
   "execution_count": 48,
   "metadata": {},
   "outputs": [
    {
     "name": "stdout",
     "output_type": "stream",
     "text": [
      "TorchLight:\n",
      "True\n"
     ]
    }
   ],
   "source": [
    "s = TorchLight() \n",
    "print('TorchLight:')\n",
    "s.start() \n",
    "s.get_input_for_output(['on','off','on']) \n",
    "print(s.state == s.start_state)"
   ]
  },
  {
   "cell_type": "code",
   "execution_count": 49,
   "metadata": {},
   "outputs": [],
   "source": [
    "class UpAndDown(SMExtra):\n",
    "    start_state=0\n",
    "    valid_inputs=['up','down']\n",
    "    def __init__(self):\n",
    "        self.state=self.start_state\n",
    "        \n",
    "    def get_next_values(self,state,inp):\n",
    "        new_state=state\n",
    "        if inp=='up':\n",
    "            new_state=state+1    \n",
    "        elif inp=='down':\n",
    "            new_state=state-1\n",
    "        if new_state<0:\n",
    "            new_state=0\n",
    "        \n",
    "        return new_state,new_state\n"
   ]
  },
  {
   "cell_type": "code",
   "execution_count": 50,
   "metadata": {},
   "outputs": [
    {
     "name": "stdout",
     "output_type": "stream",
     "text": [
      "[]\n",
      "['up', 'up', 'up', 'up', 'up', 'up', 'up', 'up', 'up', 'up']\n",
      "['up', 'up', 'up', 'down', 'down', 'down', 'up', 'up', 'up', 'up', 'up']\n",
      "['up', 'up', 'up', 'down', 'down', 'down', 'up', 'down']\n"
     ]
    }
   ],
   "source": [
    "b = UpAndDown() \n",
    "print(b.get_input_for_output([])) \n",
    "print(b.get_input_for_output([1,2,3,4,5,6,7,8,9,10])) \n",
    "print(b.get_input_for_output([1,2,3,2,1,0,1,2,3,4,5])) \n",
    "print(b.get_input_for_output([1,2,3,2,1,0,1,0]))"
   ]
  },
  {
   "cell_type": "markdown",
   "metadata": {},
   "source": [
    "Author: Caleb Foo"
   ]
  },
  {
   "cell_type": "code",
   "execution_count": null,
   "metadata": {},
   "outputs": [],
   "source": []
  }
 ],
 "metadata": {
  "kernelspec": {
   "display_name": "Python 3",
   "language": "python",
   "name": "python3"
  },
  "language_info": {
   "codemirror_mode": {
    "name": "ipython",
    "version": 3
   },
   "file_extension": ".py",
   "mimetype": "text/x-python",
   "name": "python",
   "nbconvert_exporter": "python",
   "pygments_lexer": "ipython3",
   "version": "3.6.7"
  }
 },
 "nbformat": 4,
 "nbformat_minor": 2
}
