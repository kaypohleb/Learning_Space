{
 "cells": [
  {
   "cell_type": "markdown",
   "metadata": {
    "slideshow": {
     "slide_type": "slide"
    }
   },
   "source": [
    "# Python Basics Workshop\n",
    "\n",
    "### A guide by 3DC - Part 2"
   ]
  },
  {
   "cell_type": "markdown",
   "metadata": {
    "slideshow": {
     "slide_type": "slide"
    }
   },
   "source": [
    "- Data Representation and Visualisation\n",
    "    - `25 June to 16 July`\n",
    "- Machine Learning\n",
    "    - `23 July to 13 June`"
   ]
  },
  {
   "cell_type": "markdown",
   "metadata": {
    "slideshow": {
     "slide_type": "slide"
    }
   },
   "source": [
    "As we learnt how to get output by using print as well as learning the different data types we can assign to objects.\n",
    "We have also learnt how to add and manipulate the data we have to give us different output.\n",
    "\n",
    "In today's session, we will show you\n",
    "1.to accept inputs\n",
    "2.to use arrays\n",
    "3.to make use of loops"
   ]
  },
  {
   "cell_type": "markdown",
   "metadata": {
    "slideshow": {
     "slide_type": "slide"
    }
   },
   "source": [
    "#### REVISION ACTIVITY:\n",
    "\n",
    "Create a program that asks the user to enter their name and their age. \n",
    "If an integer is input as an answer, \n",
    "Print out a message addressed to them that tells them the year that they will turn 100 years old."
   ]
  },
  {
   "cell_type": "code",
   "execution_count": 6,
   "metadata": {
    "slideshow": {
     "slide_type": "fragment"
    }
   },
   "outputs": [
    {
     "name": "stdout",
     "output_type": "stream",
     "text": [
      "What is your name?Caleb\n",
      "What is your age?24\n",
      "Caleb, The year you turn 100 is 2095\n"
     ]
    }
   ],
   "source": [
    "name = input(\"What is your name?\")\n",
    "age = input(\"What is your age?\")\n",
    "if age.isdigit():\n",
    "    print(name + \", The year you turn 100 is\",(2019+(100-int(age))))\n",
    "else:\n",
    "    print(age,\"is not a number\")"
   ]
  },
  {
   "cell_type": "markdown",
   "metadata": {
    "slideshow": {
     "slide_type": "slide"
    }
   },
   "source": [
    "### Arrays\n",
    "An array is a special variable, which can hold more than one value at a time.\n",
    "These objects provides you with categories to keep multiple values in either an ordered/unordered fashion.\n"
   ]
  },
  {
   "cell_type": "markdown",
   "metadata": {
    "slideshow": {
     "slide_type": "fragment"
    }
   },
   "source": [
    "IMMUTABLE & MUTABLE:\n",
    "\n",
    "- Mutable: you can change their content without changing their identity\n",
    "- Immutable: you cannot change their content once initialised # cannot be updated.\n",
    "\n",
    "integers, floats, strings and tuples are objects that can not be changed."
   ]
  },
  {
   "attachments": {
    "images.png": {
     "image/png": "[encoded data removed]"
    }
   },
   "cell_type": "markdown",
   "metadata": {
    "slideshow": {
     "slide_type": "slide"
    }
   },
   "source": [
    "#### List\n",
    "\n",
    "A List is similar to a shopping list whose items are numbered and placed in a specific order for easy retrival.\n",
    "\n",
    "![images.png](attachment:images.png)\n",
    "\n",
    "*Note*: Index in a list starts with 0 instead of counting up from 1.*\n",
    "\n"
   ]
  },
  {
   "cell_type": "code",
   "execution_count": null,
   "metadata": {
    "slideshow": {
     "slide_type": "slide"
    }
   },
   "outputs": [],
   "source": [
    "#assignment and appending\n",
    "a_list = [1,2,3,4,5]\n",
    "\n",
    "#appending adds the item at the end of the list\n",
    "a_list.append(6) \n",
    "#a_list now contains [1,2,3,4,5,6]\n",
    " \n",
    "#re-assignment\n",
    "a_list[1] = \"hello\" #reassignment replaces 2 by hello\n",
    "#a_list now contains [1,\"hello\",3,4,5,6]\n",
    "\n",
    "#we can also create a list of lists!\n",
    "a_list = [[1,1],[2,2],[3,3,3]]"
   ]
  },
  {
   "cell_type": "code",
   "execution_count": null,
   "metadata": {
    "slideshow": {
     "slide_type": "fragment"
    }
   },
   "outputs": [],
   "source": [
    "number_list=[1,2,3]\n",
    "extend_list=[4,5]\n",
    "#Examine the differences! (Assume number_list is reinitialised between statements)\n",
    "\n",
    "number_list.append(extend_list) # [1, 2, 3, [4, 5]]\n",
    "#number_list.extend(extend_list) # [1, 2, 3, 4, 5] Notice how the list is no longer nested!\n",
    "\n",
    "print(number_list)\n"
   ]
  },
  {
   "cell_type": "code",
   "execution_count": 7,
   "metadata": {
    "slideshow": {
     "slide_type": "fragment"
    }
   },
   "outputs": [
    {
     "name": "stdout",
     "output_type": "stream",
     "text": [
      "[1, 2, 3, 4, 5]\n",
      "[2, 3]\n"
     ]
    }
   ],
   "source": [
    "a_list = [1,2,3,4,5]\n",
    "#slicing\n",
    "print(a_list)\n",
    "#we can directly take parts of list by using [starting index:end-before index]\n",
    "print(a_list[1:3])"
   ]
  },
  {
   "cell_type": "code",
   "execution_count": null,
   "metadata": {
    "slideshow": {
     "slide_type": "slide"
    }
   },
   "outputs": [],
   "source": [
    "a_list = [1,2,3,4,5]\n",
    "\n",
    "#Useful methods\n",
    "a_list.pop() #Removes and returns the last element (the last item)\n",
    "#a_list now contains [1,2,3,4]\n",
    "\n",
    "a_list.remove(2)\n",
    "#a_list now contains [1,3,4]\n",
    "\n",
    "del a_list[1] #deletes element at index 1\n",
    "#a_list now contains [1,4]\n",
    "\n",
    "multiple_list=[1,1,1,1,2,1]\n",
    "multiple_list.count(1) #will count and return number of times it reads the element 1 in the list\n",
    "#It will return 5 instances of reading 1\n"
   ]
  },
  {
   "cell_type": "code",
   "execution_count": null,
   "metadata": {
    "slideshow": {
     "slide_type": "slide"
    }
   },
   "outputs": [],
   "source": [
    "\n",
    "a_list.sort() #sort by increasing number\n",
    "#a_list now is [2,2,3,4,6,8]\n",
    "alp_list = ['a', 'j','c','b']\n",
    "alp_list.sort() #sort by alphabetical order\n",
    "#alp_list now is ['a','b','c','j']\n",
    "\n",
    "a_list=[1,2,3,4]\n",
    "a_list.reverse() #will reverse order of list\n",
    "\n",
    "max(a_list) #returns maximum(alphanumerically) in this case: 4\n",
    "min(a_list) #returns minimum(alphanumerically) in this case: 1\n",
    "len(a_list) #returns length of list (number of items in list)\n",
    "\n",
    "sum(dragon_list) # This works only when the list elements are numbers\n",
    "# Sum all values in the list which is 10\n",
    "a_list = [1,2,3,5]\n",
    "a_list.index(3) # Find index of a list element\n",
    "# Output in this case: 2"
   ]
  },
  {
   "cell_type": "code",
   "execution_count": 5,
   "metadata": {
    "slideshow": {
     "slide_type": "slide"
    }
   },
   "outputs": [
    {
     "name": "stdout",
     "output_type": "stream",
     "text": [
      "is in a list\n"
     ]
    }
   ],
   "source": [
    "a_list=[2,2,6,4,8,3]\n",
    "i=2\n",
    "if i in a_list:  #returns True if an item/object is in a list\n",
    "    print(\"is in a list\")\n",
    "else:\n",
    "    print(\"not in a list\")"
   ]
  },
  {
   "cell_type": "code",
   "execution_count": null,
   "metadata": {},
   "outputs": [],
   "source": []
  },
  {
   "attachments": {
    "download.png": {
     "image/png": "[encoded data removed]"
    }
   },
   "cell_type": "markdown",
   "metadata": {
    "slideshow": {
     "slide_type": "slide"
    }
   },
   "source": [
    "#### Dictionary\n",
    "A dictionary is more like a drawer with folder dividers to retrieve the items within it.\n",
    "\n",
    "Can be easily understood as looking up a dictionary for meanings. \n",
    "![download.png](attachment:download.png)\n",
    "Each dictionary is made of values which individually have unique keys"
   ]
  },
  {
   "cell_type": "code",
   "execution_count": null,
   "metadata": {
    "slideshow": {
     "slide_type": "slide"
    }
   },
   "outputs": [],
   "source": [
    "a_dictionary = {'one':133,\n",
    "                'two':235,\n",
    "                'three':324,\n",
    "                'four':64,\n",
    "                'five':564} # assignment\n",
    "#examples of key-value pair where key:value\n",
    "\n",
    "#we can reassign the value to the key\n",
    "a_dictionary['one']=10\n",
    "\n",
    "#in a sense, we can use dictionary as one for one object exchange\n",
    "#where input is the index\n",
    "\n",
    "#we can also use the get() # Get values\n",
    "a_dictionary.get(\"five\") # Returns 564\n",
    "# Using this methods works the same as [].\n",
    "# However, if no value is found, it will return None instead of throwing an error"
   ]
  },
  {
   "cell_type": "code",
   "execution_count": 8,
   "metadata": {
    "slideshow": {
     "slide_type": "subslide"
    }
   },
   "outputs": [
    {
     "data": {
      "text/plain": [
       "97106929"
      ]
     },
     "execution_count": 8,
     "metadata": {},
     "output_type": "execute_result"
    }
   ],
   "source": [
    "phone_book={\"Caleb\":97106929}\n",
    "phone_book[\"Caleb\"]"
   ]
  },
  {
   "cell_type": "code",
   "execution_count": null,
   "metadata": {
    "slideshow": {
     "slide_type": "slide"
    }
   },
   "outputs": [],
   "source": [
    "#some List functions still work!\n",
    "del dictionary_name[\"one\"]\n",
    "len(a_dictionary) #gives number of keys\n",
    "a_dictionary.pop(\"two\") #Removes key-value pair and returns value\n",
    "a_dictionary.clear() # Empties the entire dictionary\n"
   ]
  },
  {
   "cell_type": "code",
   "execution_count": 10,
   "metadata": {
    "slideshow": {
     "slide_type": "fragment"
    }
   },
   "outputs": [
    {
     "name": "stdout",
     "output_type": "stream",
     "text": [
      "dict_items([('one', 133), ('two', 235), ('three', 324), ('four', 64), ('five', 564)])\n"
     ]
    }
   ],
   "source": [
    "#Useful Methods:\n",
    "a_dictionary = {'one':133,\n",
    "                'two':235,\n",
    "                'three':324,\n",
    "                'four':64,\n",
    "                'five':564}\n",
    "a_dictionary.keys() #returns a list of keys in dictionary\n",
    "a_dictionary.values() #returns a list of values in dictionary\n",
    "print(a_dictionary.items()) #returns a list key-value pairs\n"
   ]
  },
  {
   "cell_type": "code",
   "execution_count": 12,
   "metadata": {
    "slideshow": {
     "slide_type": "fragment"
    }
   },
   "outputs": [
    {
     "data": {
      "text/plain": [
       "{'one': 133,\n",
       " 'two': 235,\n",
       " 'three': 324,\n",
       " 'four': 64,\n",
       " 'five': 564,\n",
       " 'Key': 'Value',\n",
       " 'Key2': 'Value2'}"
      ]
     },
     "execution_count": 12,
     "metadata": {},
     "output_type": "execute_result"
    }
   ],
   "source": [
    "# Add a key (Update merges another dictionary!)\n",
    "a_dictionary.update({\"Key\":\"Value\",\"Key2\":\"Value2\"})\n",
    "a_dictionary"
   ]
  },
  {
   "cell_type": "markdown",
   "metadata": {
    "slideshow": {
     "slide_type": "slide"
    }
   },
   "source": [
    "#### Dictionary Activity\n",
    "For this Activity, we will keep track of when our friend’s birthdays are, and be able to find that information based on their name. Create a dictionary (in your file) of names and birthdays. \n",
    "\n",
    "When you run your program it should ask the user to enter a name, and return the birthday of that person back to them. The interaction should look something like this:\n",
    ">Who's birthday do you want to look up?\n",
    ">>Benjamin Franklin\n",
    ">>>Benjamin Franklin's birthday is 01/17/1706."
   ]
  },
  {
   "cell_type": "code",
   "execution_count": null,
   "metadata": {
    "slideshow": {
     "slide_type": "slide"
    }
   },
   "outputs": [],
   "source": [
    "birthdays = {\n",
    "        'Albert Einstein': '03/14/1879',\n",
    "        'Benjamin Franklin': '01/17/1706',\n",
    "        'Ada Lovelace': '12/10/1815',\n",
    "        'Donald Trump': '06/14/1946',\n",
    "        'Rowan Atkinson': '01/6/1955'}\n",
    "name = input('Who\\'s birthday do you want to look up? ')\n",
    "if name in birthdays:\n",
    "    print('{}\\'s birthday is {}.'.format(name, birthdays[name])\n",
    "else:\n",
    "    print('Sadly, we don\\'t have {}\\'s birthday.'.format(name))"
   ]
  },
  {
   "cell_type": "markdown",
   "metadata": {
    "slideshow": {
     "slide_type": "slide"
    }
   },
   "source": [
    "##### Tuples\n",
    "A tuple are different from list as they are *immutable*\n",
    "\n",
    "This means that after set has been initialised or created, its values cannot be changed\n",
    "\n",
    "This is useful in some cases when you have either fixed parameters/collection."
   ]
  },
  {
   "cell_type": "code",
   "execution_count": null,
   "metadata": {
    "scrolled": true,
    "slideshow": {
     "slide_type": "fragment"
    }
   },
   "outputs": [],
   "source": [
    "\n",
    "a_tuple = (1,2,3,4,5) # assignment\n",
    "print(\"item of index 1 in a_list: \" + str(a_tuple[1]))\n",
    "#a_tuple[1] = \"hello\" # Unable to do reassignment and hence throw and error instead\n"
   ]
  },
  {
   "cell_type": "markdown",
   "metadata": {
    "slideshow": {
     "slide_type": "slide"
    }
   },
   "source": [
    "Strings can be also considered in a sense a list of characters(char)\n",
    "In this way, we can also access the characters through slicing\n"
   ]
  },
  {
   "cell_type": "code",
   "execution_count": 18,
   "metadata": {
    "slideshow": {
     "slide_type": "fragment"
    }
   },
   "outputs": [
    {
     "name": "stdout",
     "output_type": "stream",
     "text": [
      "['Th', 's,', 's a Str', 'ng']\n"
     ]
    }
   ],
   "source": [
    "string=\"This,is a String\"\n",
    "#string[2]='a' #should give us a error\n",
    " \n",
    "#We can also split strings by delimiters and transform it into list of words\n",
    "words=string.split(\"i\") #default is using space\n",
    "print(words)"
   ]
  },
  {
   "cell_type": "markdown",
   "metadata": {
    "slideshow": {
     "slide_type": "slide"
    }
   },
   "source": [
    "#### Sets\n",
    "\n",
    "Sets are unordered collections of unique items. \n",
    "This means that by adding a duplication to the set, it will do nothing.\n",
    "set is mutable but items must be immutable\n",
    "\n",
    "It is best if you treat them seperate from lists and dictionaries"
   ]
  },
  {
   "cell_type": "code",
   "execution_count": 19,
   "metadata": {
    "slideshow": {
     "slide_type": "fragment"
    }
   },
   "outputs": [
    {
     "name": "stdout",
     "output_type": "stream",
     "text": [
      "{1, 2, 3, 4, 5, 6, 7, 8}\n"
     ]
    }
   ],
   "source": [
    "# Define a set using {}\n",
    "unique_numbers = {1, 1, 2, 3}\n",
    "\n",
    "# Another way is to just cast to a set\n",
    "numbers = [4, 4, 5, 6]\n",
    "more_unique_numbers = set(numbers)\n",
    "\n",
    "# Empty set\n",
    "# You have to do it this way since {} will initialise a dictionary!\n",
    "unique_numbers = set()\n",
    "\n",
    "example_set = {1, 2, 3}\n",
    "\n",
    "# Add a value\n",
    "example_set.add(4) # Now {1, 2, 3, 4}\n",
    "# Add multiple values (Update merges sets!)\n",
    "example_set.update([5, 6, 7]) # In this case it converts the list first\n",
    "example_set.update([5, 6, 7], {6, 7, 8}) # In case you wanted to merge a list and a set in too\n",
    "print(example_set)"
   ]
  },
  {
   "cell_type": "code",
   "execution_count": null,
   "metadata": {
    "slideshow": {
     "slide_type": "slide"
    }
   },
   "outputs": [],
   "source": [
    "example_set = {1, 2, 3}\n",
    "\n",
    "# Remove a value\n",
    "example_set.remove(8)\n",
    "\n",
    "# Remove a value (alternative)\n",
    "# Discard will not throw an error if the argument is not in the set\n",
    "# Remove will\n",
    "# It's like dictionary.get() vs dictionary[index]!\n",
    "example_set.discard(8)\n",
    "\n",
    "# Remove the last value\n",
    "example_set.pop() # This will also return the value\n",
    "\n",
    "# Clear the set\n",
    "example_set.clear()\n"
   ]
  },
  {
   "cell_type": "markdown",
   "metadata": {
    "slideshow": {
     "slide_type": "slide"
    }
   },
   "source": [
    "#### Activity: Removing Duplicates\n",
    "Write a program that takes a list and returns a new list that contains all the elements of the first list minus all the duplicates."
   ]
  },
  {
   "cell_type": "code",
   "execution_count": 21,
   "metadata": {
    "slideshow": {
     "slide_type": "fragment"
    }
   },
   "outputs": [
    {
     "name": "stdout",
     "output_type": "stream",
     "text": [
      "{1, 2, 3, 4, 5, 6, 10, 18, 20, 21}\n"
     ]
    }
   ],
   "source": [
    "duplicate_list = [1,1,10,2,3,4,4,5,2,6,18,20,21]\n",
    "set(duplicate_list)\n",
    "\n",
    "\n",
    "#Using Loops\n",
    "set_a=set()\n",
    "for i in duplicate_list:\n",
    "    set_a.add(i)\n",
    "\n",
    "print(set_a)"
   ]
  },
  {
   "cell_type": "markdown",
   "metadata": {
    "slideshow": {
     "slide_type": "slide"
    }
   },
   "source": [
    "#### Loops\n",
    "\n",
    "Loops help us to repeat the lines of code multiple number of times.\n",
    "\n",
    "There is 2 major ways that we can achieve this.\n",
    "1.For loop\n",
    "2.While loop\n"
   ]
  },
  {
   "cell_type": "markdown",
   "metadata": {
    "slideshow": {
     "slide_type": "fragment"
    }
   },
   "source": [
    "A for loop is used for iterating over a sequence\n",
    "\n",
    "This means we can execute a set of statements, once for each item in the sequence/array"
   ]
  },
  {
   "cell_type": "code",
   "execution_count": 27,
   "metadata": {
    "slideshow": {
     "slide_type": "fragment"
    }
   },
   "outputs": [
    {
     "name": "stdout",
     "output_type": "stream",
     "text": [
      "3\n",
      "2\n",
      "1\n"
     ]
    }
   ],
   "source": [
    "#this generates a sequence that without initialising one in a variable\n",
    "# range(start, non-inclusive end, steps)\n",
    "\n",
    "range(4) # Returns [0, 1, 2, 3]\n",
    "\n",
    "for i in range(3,0,-1):\n",
    "    print(i)"
   ]
  },
  {
   "cell_type": "code",
   "execution_count": 36,
   "metadata": {
    "slideshow": {
     "slide_type": "slide"
    }
   },
   "outputs": [
    {
     "name": "stdout",
     "output_type": "stream",
     "text": [
      "index2\n",
      "index3\n"
     ]
    }
   ],
   "source": [
    "# Iterate FOR each element in a list\n",
    "my_list = [\"caw\", \"cawcaw\", \"cawcawcaw\", \"cawcawcawcaw\"]\n",
    "for caw in my_list:\n",
    "    print(caw, end=\"!\")\n",
    "\n",
    "    \n",
    "# Iterate FOR some range of numbers\n",
    "# Output: 0 1 2 3 4 5 6 7 8 9\n",
    "for element in range(10): # You can call the element anything, some people even use _ !!\n",
    "    print(element, end=\" \")\n",
    "\n",
    "a_list=[\"index0\",\"index1\",\"index2\",\"index3\",\"index4\"]\n",
    "for i in range(2,4): #[2,3]\n",
    "    print(a_list[i])"
   ]
  },
  {
   "cell_type": "markdown",
   "metadata": {
    "slideshow": {
     "slide_type": "slide"
    }
   },
   "source": [
    "#### While Loops\n",
    "\n",
    "Repeats block of code as long as a condition is true.\n",
    "\n",
    "Use these when you don't know ahead of time when this loop is going to end. \n",
    "\n",
    "*Note*: The condition is checked right BEFORE each run through of loop!"
   ]
  },
  {
   "cell_type": "code",
   "execution_count": 37,
   "metadata": {
    "slideshow": {
     "slide_type": "fragment"
    }
   },
   "outputs": [
    {
     "name": "stdout",
     "output_type": "stream",
     "text": [
      "1\n",
      "2\n",
      "3\n",
      "4\n",
      "5\n"
     ]
    }
   ],
   "source": [
    "i = 1\n",
    "while i < 6:\n",
    "    print(i)\n",
    "    i += 1\n",
    "#Print i as long as i is less than 6\n",
    "#Note:remember to increment i, or else the loop will continue forever."
   ]
  },
  {
   "cell_type": "markdown",
   "metadata": {
    "slideshow": {
     "slide_type": "slide"
    }
   },
   "source": [
    "##### using break\n",
    "The break Statement\n",
    "With the break statement we can stop the loop even if the while condition is true:"
   ]
  },
  {
   "cell_type": "code",
   "execution_count": 38,
   "metadata": {
    "slideshow": {
     "slide_type": "fragment"
    }
   },
   "outputs": [
    {
     "name": "stdout",
     "output_type": "stream",
     "text": [
      "1\n",
      "2\n",
      "3\n"
     ]
    }
   ],
   "source": [
    "i = 1\n",
    "while i < 6:\n",
    "    print(i)\n",
    "    if i == 3:\n",
    "        break\n",
    "    i += 1"
   ]
  },
  {
   "cell_type": "markdown",
   "metadata": {
    "slideshow": {
     "slide_type": "slide"
    }
   },
   "source": [
    "##### The continue Statement\n",
    "With the continue statement we can stop the current iteration, and continue with the next"
   ]
  },
  {
   "cell_type": "code",
   "execution_count": 39,
   "metadata": {
    "slideshow": {
     "slide_type": "fragment"
    }
   },
   "outputs": [
    {
     "name": "stdout",
     "output_type": "stream",
     "text": [
      "1\n",
      "2\n",
      "4\n",
      "5\n",
      "6\n"
     ]
    }
   ],
   "source": [
    "i = 0\n",
    "while i < 6:\n",
    "    i += 1 \n",
    "    if i == 3:\n",
    "        continue\n",
    "    print(i)"
   ]
  },
  {
   "cell_type": "markdown",
   "metadata": {
    "slideshow": {
     "slide_type": "slide"
    }
   },
   "source": [
    "#### Loop + Conditionals Activity\n",
    "\n",
    "Print out all the elements in the list that are below 15 by using loop\n",
    "\n",
    "a_list=[1,2,6,36,93,72,256,15,23]"
   ]
  },
  {
   "cell_type": "code",
   "execution_count": null,
   "metadata": {
    "slideshow": {
     "slide_type": "fragment"
    }
   },
   "outputs": [],
   "source": [
    "a_list=[1,2,6,36,93,72,256,15,23]\n",
    "for i in a_list:\n",
    "    if i<15:\n",
    "        print(i)"
   ]
  },
  {
   "cell_type": "markdown",
   "metadata": {
    "slideshow": {
     "slide_type": "slide"
    }
   },
   "source": [
    "#### Prime number activity\n",
    "Using loops, check if a number is a prime number\n",
    "\n",
    "*Note*: We are only testing small prime numbers here, the large the number the longer it'll take for computation.\n",
    "\n",
    "Therefore, it might cause a timeout error"
   ]
  },
  {
   "cell_type": "code",
   "execution_count": 40,
   "metadata": {
    "slideshow": {
     "slide_type": "fragment"
    }
   },
   "outputs": [
    {
     "name": "stdout",
     "output_type": "stream",
     "text": [
      "43 is a prime number\n"
     ]
    }
   ],
   "source": [
    "number = 43\n",
    "\n",
    "if number > 1:\n",
    "    for i in range(2,number):\n",
    "        if (number % i) == 0:\n",
    "            print(number,\"is not a prime number\")\n",
    "            break\n",
    "    else:\n",
    "        print(number,\"is a prime number\")    \n",
    "else:\n",
    "    print(number,\"is not a prime number\")"
   ]
  },
  {
   "cell_type": "markdown",
   "metadata": {
    "slideshow": {
     "slide_type": "slide"
    }
   },
   "source": [
    "#### Tic Tac Toe with Loops"
   ]
  },
  {
   "cell_type": "markdown",
   "metadata": {
    "slideshow": {
     "slide_type": "fragment"
    }
   },
   "source": [
    "\n",
    "Time for some fake graphics! Let’s say we want to draw game boards that look like this:\n",
    " --- --- --- \n",
    "|   |   |   | \n",
    " --- --- ---  \n",
    "|   |   |   | \n",
    " --- --- ---  \n",
    "|   |   |   | \n",
    " --- --- --- \n",
    "This one is 3x3 (like in tic tac toe).\n",
    "\n",
    "Using loops "
   ]
  },
  {
   "cell_type": "code",
   "execution_count": 47,
   "metadata": {
    "slideshow": {
     "slide_type": "slide"
    }
   },
   "outputs": [
    {
     "name": "stdout",
     "output_type": "stream",
     "text": [
      " ---  ---  --- \n",
      "|    |    |    |    \n",
      " ---  ---  --- \n",
      "|    |    |    |    \n",
      " ---  ---  --- \n",
      "|    |    |    |    \n",
      " ---  ---  --- \n"
     ]
    }
   ],
   "source": [
    "board_size=3\n",
    "for i in range(3):\n",
    "    print(\" --- \" * board_size)\n",
    "    print(\"|    \" * (board_size + 1))\n",
    "print(\" --- \" * board_size)"
   ]
  },
  {
   "cell_type": "markdown",
   "metadata": {
    "slideshow": {
     "slide_type": "slide"
    }
   },
   "source": [
    "#### While Activity:\n",
    "\n",
    "- set a password\n",
    "- Make a userdata base where user must key password\n",
    "- while password is wrong, print invalid and repeat\n",
    "\n",
    "hint: use boolean (true/false)"
   ]
  },
  {
   "cell_type": "code",
   "execution_count": 53,
   "metadata": {
    "slideshow": {
     "slide_type": "slide"
    }
   },
   "outputs": [
    {
     "name": "stdout",
     "output_type": "stream",
     "text": [
      "Password: password123\n",
      "Entered\n",
      "Password: password123\n",
      "Entered\n"
     ]
    },
    {
     "ename": "NameError",
     "evalue": "name 'aa' is not defined",
     "output_type": "error",
     "traceback": [
      "\u001b[1;31m---------------------------------------------------------------------------\u001b[0m",
      "\u001b[1;31mNameError\u001b[0m                                 Traceback (most recent call last)",
      "\u001b[1;32m<ipython-input-53-b0a4f6152f26>\u001b[0m in \u001b[0;36m<module>\u001b[1;34m\u001b[0m\n\u001b[0;32m     11\u001b[0m     \u001b[0mprint\u001b[0m\u001b[1;33m(\u001b[0m\u001b[1;34m\"Wrong Password\"\u001b[0m\u001b[1;33m)\u001b[0m\u001b[1;33m\u001b[0m\u001b[1;33m\u001b[0m\u001b[0m\n\u001b[0;32m     12\u001b[0m \u001b[1;33m\u001b[0m\u001b[0m\n\u001b[1;32m---> 13\u001b[1;33m \u001b[0mprint\u001b[0m\u001b[1;33m(\u001b[0m\u001b[1;34m\"Entered\"\u001b[0m\u001b[1;33m)\u001b[0m\u001b[1;33m[\u001b[0m\u001b[0maa\u001b[0m\u001b[1;33m]\u001b[0m\u001b[1;33m\u001b[0m\u001b[1;33m\u001b[0m\u001b[0m\n\u001b[0m",
      "\u001b[1;31mNameError\u001b[0m: name 'aa' is not defined"
     ]
    }
   ],
   "source": [
    "pass_fail = True\n",
    "while pass_fail:\n",
    "    if input(\"Password: \")==\"password123\":\n",
    "        pass_fail=False\n",
    "        print(\"Entered\")\n",
    "    else:\n",
    "        print(\"Wrong Password\")\n",
    "\n",
    "#alternative\n",
    "while input(\"Password: \")!=\"password123\":\n",
    "    print(\"Wrong Password\")\n",
    "\n",
    "print(\"Entered\")"
   ]
  },
  {
   "attachments": {
    "download%20%281%29.png": {
     "image/png": "[encoded data removed]"
    }
   },
   "cell_type": "markdown",
   "metadata": {
    "slideshow": {
     "slide_type": "slide"
    }
   },
   "source": [
    "#### Dimensions:\n",
    "    we can also put lists in lists to emulate a multi-dimensional array\n",
    "![download%20%281%29.png](attachment:download%20%281%29.png)"
   ]
  },
  {
   "cell_type": "code",
   "execution_count": null,
   "metadata": {
    "slideshow": {
     "slide_type": "fragment"
    }
   },
   "outputs": [],
   "source": [
    "a_list = [[1,1],[2,2],[3,3,3]]\n",
    "a_list[0][1] #index 1 object \n",
    "\n",
    "#we can also use numpy library later. Do check it out if you are joining us for data visualisation"
   ]
  },
  {
   "cell_type": "markdown",
   "metadata": {
    "slideshow": {
     "slide_type": "slide"
    }
   },
   "source": [
    "### Final Activity \n",
    "create a semi-functional dart which prints the gameboard and accept input for posititon\n",
    "\n",
    "print out the dart position as well\n",
    "\n",
    "input: 0 2\n",
    "\n",
    " --- --- --- \n",
    "|   |   | x  \n",
    " --- --- ---  \n",
    "|   |   |   \n",
    " --- --- ---  \n",
    "|   |   |   \n",
    " --- --- --- "
   ]
  },
  {
   "cell_type": "code",
   "execution_count": null,
   "metadata": {
    "slideshow": {
     "slide_type": "slide"
    }
   },
   "outputs": [
    {
     "name": "stdout",
     "output_type": "stream",
     "text": [
      "position: 0 2\n",
      " ---  ---  --- \n",
      "|    |    | x  \n",
      " ---  ---  --- \n",
      "|    |    |    \n",
      " ---  ---  --- \n",
      "|    |    |    \n"
     ]
    }
   ],
   "source": [
    "game=True\n",
    "board_size=3\n",
    "while game:\n",
    "    position = [int(i) for i in input(\"position: \").split()]\n",
    "    for i in range(board_size):\n",
    "        print(\" --- \" * board_size)\n",
    "        if position[0] == i:\n",
    "            row=''\n",
    "            for k in range(board_size):\n",
    "                if position[1] == k:\n",
    "                    row += \"| x  \"\n",
    "                else:\n",
    "                    row += \"|    \"\n",
    "            print(row)\n",
    "        else:\n",
    "            print(\"|    \" * board_size)\n",
    "        \n",
    "    "
   ]
  },
  {
   "cell_type": "code",
   "execution_count": null,
   "metadata": {},
   "outputs": [],
   "source": []
  }
 ],
 "metadata": {
  "celltoolbar": "Slideshow",
  "kernelspec": {
   "display_name": "Python 3",
   "language": "python",
   "name": "python3"
  },
  "language_info": {
   "codemirror_mode": {
    "name": "ipython",
    "version": 3
   },
   "file_extension": ".py",
   "mimetype": "text/x-python",
   "name": "python",
   "nbconvert_exporter": "python",
   "pygments_lexer": "ipython3",
   "version": "3.6.7"
  },
  "rise": {
   "footer": "<h3>  </h3>",
   "header": "<h1>  Digital Design Development</h1>"
  }
 },
 "nbformat": 4,
 "nbformat_minor": 2
}
